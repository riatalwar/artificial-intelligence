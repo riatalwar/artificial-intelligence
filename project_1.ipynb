{
 "cells": [
  {
   "cell_type": "markdown",
   "metadata": {},
   "source": [
    "# Artificial Intelligence\n",
    "# 464\n",
    "# Project #1\n",
    "\n",
    "## Before You Begin...\n",
    "00. We're using a Jupyter Notebook environment (tutorial available here: https://jupyter-notebook-beginner-guide.readthedocs.io/en/latest/what_is_jupyter.html),\n",
    "01. Read the entire notebook before beginning your work, and\n",
    "02.  Check the submission deadline on Gradescope.\n",
    "\n",
    "\n",
    "## General Directions for this Assignment\n",
    "00. Output format should be exactly as requested,\n",
    "01. Functions should do only one thing,\n",
    "02. Keep functions to 20 lines or less (empty lines are fine, there's leeway, but don't blatantly ignore this),\n",
    "03. The main functions are provided, add as many helper function as needed, \n",
    "04. Add docstring to all functions: those provided and those you will create, there's one started for the breadth_first_search, but please review it for completeness and amend as necessary,\n",
    "05.  Each helper function you create should be followed by a unit test with at least three test conditions (if your helper doesn't return anything, just provide enough evidence with a test that shows that it works), and\n",
    "06.  Do not create your own classes for this project (you are free to import libraries).\n",
    "\n",
    "\n",
    "## Before You Submit...\n",
    "00. Re-read the general instructions provided above, and\n",
    "01. Hit \"Kernel\"->\"Restart & Run All\". The first cell that is run should show [1], the second should show [2], and so on...\n",
    "02. Submit your notebook (as .ipynb, not PDF) using Gradescope, and\n",
    "03.  Do not submit any other files."
   ]
  },
  {
   "cell_type": "markdown",
   "metadata": {},
   "source": [
    "## The World\n",
    "\n",
    "A `List of Lists` is used to represent the world. Cells marked as '⬛' are obstacles in the world and are not traversable."
   ]
  },
  {
   "cell_type": "code",
   "execution_count": 1,
   "metadata": {},
   "outputs": [],
   "source": [
    "def create_grid_world():\n",
    "    \"\"\"\n",
    "    Creates a 2D world represented as a list of lists\n",
    "\n",
    "    ...\n",
    "    \n",
    "    \"\"\"\n",
    "    return [['⬜','⬜','⬜','⬜','⬜','⬜','⬜','⬜','⬜','⬜','⬜','⬜','⬜','⬜','⬜','⬜','⬜','⬜','⬜','⬜','⬜'],\n",
    "            ['⬜','⬜','⬜','⬜','⬜','⬜','⬜','⬜','⬜','⬜','⬜','⬜','⬜','⬜','⬜','⬜','⬜','⬜','⬜','⬜','⬜'],\n",
    "            ['⬜','⬜','⬜','⬜','⬜','⬜','⬜','⬜','⬜','⬜','⬜','⬜','⬜','⬜','⬜','⬜','⬜','⬜','⬜','⬜','⬜'],\n",
    "            ['⬜','⬜','⬜','⬜','⬜','⬜','⬜','⬜','⬜','⬜','⬜','⬜','⬜','⬜','⬜','⬜','⬜','⬜','⬜','⬜','⬜'],\n",
    "            ['⬜','⬜','⬜','⬜','⬜','⬜','⬜','⬜','⬜','⬜','⬜','⬜','⬜','⬜','⬜','⬜','⬜','⬜','⬜','⬜','⬜'],\n",
    "            ['⬜','⬜','⬜','⬜','⬜','⬜','⬜','⬜','⬜','⬜','⬜','⬜','⬜','⬜','⬜','⬜','⬜','⬜','⬜','⬜','⬜'],\n",
    "            ['⬜','⬜','⬜','⬜','⬜','⬜','⬜','⬜','⬜','⬜','⬜','⬜','⬜','⬜','⬜','⬜','⬜','⬜','⬜','⬜','⬜'],\n",
    "            ['⬜','⬜','⬜','⬜','⬜','⬜','⬜','⬜','⬜','⬜','⬜','⬜','⬜','⬜','⬜','⬜','⬜','⬜','⬜','⬜','⬜'],\n",
    "            ['⬜','⬜','⬜','⬜','⬜','⬜','⬜','⬜','⬜','⬜','⬜','⬜','⬜','⬜','⬜','⬜','⬜','⬜','⬜','⬜','⬜'],\n",
    "            ['⬜','⬜','⬜','⬜','⬜','⬜','⬜','⬜','⬜','⬛','⬛','⬛','⬜','⬜','⬜','⬜','⬜','⬜','⬜','⬜','⬜'],\n",
    "            ['⬜','⬜','⬜','⬜','⬜','⬜','⬜','⬜','⬜','⬛','⬛','⬛','⬜','⬜','⬜','⬜','⬜','⬜','⬜','⬜','⬜'],\n",
    "            ['⬜','⬜','⬜','⬜','⬜','⬜','⬜','⬜','⬜','⬛','⬛','⬛','⬜','⬜','⬜','⬜','⬜','⬜','⬜','⬜','⬜'],\n",
    "            ['⬜','⬜','⬜','⬜','⬜','⬜','⬜','⬜','⬜','⬜','⬜','⬜','⬜','⬜','⬜','⬜','⬜','⬜','⬜','⬜','⬜'],\n",
    "            ['⬜','⬜','⬜','⬜','⬜','⬜','⬜','⬜','⬜','⬜','⬜','⬜','⬜','⬜','⬜','⬜','⬜','⬜','⬜','⬜','⬜'],\n",
    "            ['⬜','⬜','⬜','⬜','⬜','⬜','⬜','⬜','⬜','⬜','⬜','⬜','⬜','⬜','⬜','⬜','⬜','⬜','⬜','⬜','⬜'],\n",
    "            ['⬜','⬜','⬜','⬜','⬜','⬜','⬜','⬜','⬜','⬜','⬜','⬜','⬜','⬜','⬜','⬜','⬜','⬜','⬜','⬜','⬜'],\n",
    "            ['⬜','⬜','⬜','⬜','⬜','⬜','⬜','⬜','⬜','⬜','⬜','⬜','⬜','⬜','⬜','⬜','⬜','⬜','⬜','⬜','⬜'],\n",
    "            ['⬜','⬜','⬜','⬜','⬜','⬜','⬜','⬜','⬜','⬜','⬜','⬜','⬜','⬜','⬜','⬜','⬜','⬜','⬜','⬜','⬜'],\n",
    "            ['⬜','⬜','⬜','⬜','⬜','⬜','⬜','⬜','⬜','⬜','⬜','⬜','⬜','⬜','⬜','⬜','⬜','⬜','⬜','⬜','⬜'],\n",
    "            ['⬜','⬜','⬜','⬜','⬜','⬜','⬜','⬜','⬜','⬜','⬜','⬜','⬜','⬜','⬜','⬜','⬜','⬜','⬜','⬜','⬜'],\n",
    "            ['⬜','⬜','⬜','⬜','⬜','⬜','⬜','⬜','⬜','⬜','⬜','⬜','⬜','⬜','⬜','⬜','⬜','⬜','⬜','⬜','⬜']]"
   ]
  },
  {
   "cell_type": "code",
   "execution_count": 2,
   "metadata": {},
   "outputs": [],
   "source": [
    "world = create_grid_world()"
   ]
  },
  {
   "cell_type": "code",
   "execution_count": 3,
   "metadata": {},
   "outputs": [
    {
     "name": "stdout",
     "output_type": "stream",
     "text": [
      "⬜⬜⬜⬜⬜⬜⬜⬜⬜⬜⬜⬜⬜⬜⬜⬜⬜⬜⬜⬜⬜\n",
      "⬜⬜⬜⬜⬜⬜⬜⬜⬜⬜⬜⬜⬜⬜⬜⬜⬜⬜⬜⬜⬜\n",
      "⬜⬜⬜⬜⬜⬜⬜⬜⬜⬜⬜⬜⬜⬜⬜⬜⬜⬜⬜⬜⬜\n",
      "⬜⬜⬜⬜⬜⬜⬜⬜⬜⬜⬜⬜⬜⬜⬜⬜⬜⬜⬜⬜⬜\n",
      "⬜⬜⬜⬜⬜⬜⬜⬜⬜⬜⬜⬜⬜⬜⬜⬜⬜⬜⬜⬜⬜\n",
      "⬜⬜⬜⬜⬜⬜⬜⬜⬜⬜⬜⬜⬜⬜⬜⬜⬜⬜⬜⬜⬜\n",
      "⬜⬜⬜⬜⬜⬜⬜⬜⬜⬜⬜⬜⬜⬜⬜⬜⬜⬜⬜⬜⬜\n",
      "⬜⬜⬜⬜⬜⬜⬜⬜⬜⬜⬜⬜⬜⬜⬜⬜⬜⬜⬜⬜⬜\n",
      "⬜⬜⬜⬜⬜⬜⬜⬜⬜⬜⬜⬜⬜⬜⬜⬜⬜⬜⬜⬜⬜\n",
      "⬜⬜⬜⬜⬜⬜⬜⬜⬜⬛⬛⬛⬜⬜⬜⬜⬜⬜⬜⬜⬜\n",
      "⬜⬜⬜⬜⬜⬜⬜⬜⬜⬛⬛⬛⬜⬜⬜⬜⬜⬜⬜⬜⬜\n",
      "⬜⬜⬜⬜⬜⬜⬜⬜⬜⬛⬛⬛⬜⬜⬜⬜⬜⬜⬜⬜⬜\n",
      "⬜⬜⬜⬜⬜⬜⬜⬜⬜⬜⬜⬜⬜⬜⬜⬜⬜⬜⬜⬜⬜\n",
      "⬜⬜⬜⬜⬜⬜⬜⬜⬜⬜⬜⬜⬜⬜⬜⬜⬜⬜⬜⬜⬜\n",
      "⬜⬜⬜⬜⬜⬜⬜⬜⬜⬜⬜⬜⬜⬜⬜⬜⬜⬜⬜⬜⬜\n",
      "⬜⬜⬜⬜⬜⬜⬜⬜⬜⬜⬜⬜⬜⬜⬜⬜⬜⬜⬜⬜⬜\n",
      "⬜⬜⬜⬜⬜⬜⬜⬜⬜⬜⬜⬜⬜⬜⬜⬜⬜⬜⬜⬜⬜\n",
      "⬜⬜⬜⬜⬜⬜⬜⬜⬜⬜⬜⬜⬜⬜⬜⬜⬜⬜⬜⬜⬜\n",
      "⬜⬜⬜⬜⬜⬜⬜⬜⬜⬜⬜⬜⬜⬜⬜⬜⬜⬜⬜⬜⬜\n",
      "⬜⬜⬜⬜⬜⬜⬜⬜⬜⬜⬜⬜⬜⬜⬜⬜⬜⬜⬜⬜⬜\n",
      "⬜⬜⬜⬜⬜⬜⬜⬜⬜⬜⬜⬜⬜⬜⬜⬜⬜⬜⬜⬜⬜\n"
     ]
    }
   ],
   "source": [
    "# A nicer view of the world, without commas and brackets\n",
    "for row in world:\n",
    "    print(\"\".join(row))"
   ]
  },
  {
   "cell_type": "markdown",
   "metadata": {},
   "source": [
    "## Robot\n",
    "\n",
    "Our robot '🤖' starts at the bottom left and can either move up, down, left, or right. It's looking for the '❤️' in the world. "
   ]
  },
  {
   "cell_type": "code",
   "execution_count": 4,
   "metadata": {},
   "outputs": [],
   "source": [
    "moves = [(-1,0), (0,1), (1,0), (0,-1)] # Up Right Down Left"
   ]
  },
  {
   "cell_type": "code",
   "execution_count": 5,
   "metadata": {},
   "outputs": [],
   "source": [
    "start = (len(world)-1, 0)"
   ]
  },
  {
   "cell_type": "code",
   "execution_count": 6,
   "metadata": {},
   "outputs": [],
   "source": [
    "goal = (0, len(world)-1)"
   ]
  },
  {
   "cell_type": "code",
   "execution_count": 7,
   "metadata": {},
   "outputs": [],
   "source": [
    "# Update the world with this information\n",
    "world[start[0]][start[1]] = '🤖'\n",
    "world[goal[0]][goal[1]] = '❤️'"
   ]
  },
  {
   "cell_type": "code",
   "execution_count": 8,
   "metadata": {},
   "outputs": [
    {
     "name": "stdout",
     "output_type": "stream",
     "text": [
      "⬜⬜⬜⬜⬜⬜⬜⬜⬜⬜⬜⬜⬜⬜⬜⬜⬜⬜⬜⬜❤️\n",
      "⬜⬜⬜⬜⬜⬜⬜⬜⬜⬜⬜⬜⬜⬜⬜⬜⬜⬜⬜⬜⬜\n",
      "⬜⬜⬜⬜⬜⬜⬜⬜⬜⬜⬜⬜⬜⬜⬜⬜⬜⬜⬜⬜⬜\n",
      "⬜⬜⬜⬜⬜⬜⬜⬜⬜⬜⬜⬜⬜⬜⬜⬜⬜⬜⬜⬜⬜\n",
      "⬜⬜⬜⬜⬜⬜⬜⬜⬜⬜⬜⬜⬜⬜⬜⬜⬜⬜⬜⬜⬜\n",
      "⬜⬜⬜⬜⬜⬜⬜⬜⬜⬜⬜⬜⬜⬜⬜⬜⬜⬜⬜⬜⬜\n",
      "⬜⬜⬜⬜⬜⬜⬜⬜⬜⬜⬜⬜⬜⬜⬜⬜⬜⬜⬜⬜⬜\n",
      "⬜⬜⬜⬜⬜⬜⬜⬜⬜⬜⬜⬜⬜⬜⬜⬜⬜⬜⬜⬜⬜\n",
      "⬜⬜⬜⬜⬜⬜⬜⬜⬜⬜⬜⬜⬜⬜⬜⬜⬜⬜⬜⬜⬜\n",
      "⬜⬜⬜⬜⬜⬜⬜⬜⬜⬛⬛⬛⬜⬜⬜⬜⬜⬜⬜⬜⬜\n",
      "⬜⬜⬜⬜⬜⬜⬜⬜⬜⬛⬛⬛⬜⬜⬜⬜⬜⬜⬜⬜⬜\n",
      "⬜⬜⬜⬜⬜⬜⬜⬜⬜⬛⬛⬛⬜⬜⬜⬜⬜⬜⬜⬜⬜\n",
      "⬜⬜⬜⬜⬜⬜⬜⬜⬜⬜⬜⬜⬜⬜⬜⬜⬜⬜⬜⬜⬜\n",
      "⬜⬜⬜⬜⬜⬜⬜⬜⬜⬜⬜⬜⬜⬜⬜⬜⬜⬜⬜⬜⬜\n",
      "⬜⬜⬜⬜⬜⬜⬜⬜⬜⬜⬜⬜⬜⬜⬜⬜⬜⬜⬜⬜⬜\n",
      "⬜⬜⬜⬜⬜⬜⬜⬜⬜⬜⬜⬜⬜⬜⬜⬜⬜⬜⬜⬜⬜\n",
      "⬜⬜⬜⬜⬜⬜⬜⬜⬜⬜⬜⬜⬜⬜⬜⬜⬜⬜⬜⬜⬜\n",
      "⬜⬜⬜⬜⬜⬜⬜⬜⬜⬜⬜⬜⬜⬜⬜⬜⬜⬜⬜⬜⬜\n",
      "⬜⬜⬜⬜⬜⬜⬜⬜⬜⬜⬜⬜⬜⬜⬜⬜⬜⬜⬜⬜⬜\n",
      "⬜⬜⬜⬜⬜⬜⬜⬜⬜⬜⬜⬜⬜⬜⬜⬜⬜⬜⬜⬜⬜\n",
      "🤖⬜⬜⬜⬜⬜⬜⬜⬜⬜⬜⬜⬜⬜⬜⬜⬜⬜⬜⬜⬜\n"
     ]
    }
   ],
   "source": [
    "# A nicer view of the world, without commas and brackets\n",
    "for row in world:\n",
    "    print(\"\".join(row))"
   ]
  },
  {
   "cell_type": "markdown",
   "metadata": {},
   "source": [
    "## Search\n",
    "\n",
    "\n",
    "A general search pseudocode is as follows:\n",
    "\n",
    "```\n",
    "Here's a useful pseudocode for search, in general:\n",
    "\n",
    "    Start with a frontier that contains the initial state\n",
    "    Start with an empty explored set\n",
    "    Repeat:\n",
    "        If the frontier is empty, then no solution\n",
    "        Remove a node from the frontier\n",
    "        If node contains goal state, return the solution\n",
    "        Add the node to the explored set\n",
    "        Expand node, add resulting nodes to the frontier if they aren't already in the frontier or the explored set\n",
    "```\n",
    "\n",
    "Now, this is the general idea. How we deal with the frontier (implementation, queue, priority queue, stack, list, dictionary, and so on) and some of the conditions is going to differentiate whether this leads to breadth-first, depth-first, or A$^*$.\n",
    "\n",
    "\n",
    "In class we talked about alphabetical order, but here we're dealing with locations in a list of lists. Let moves dictate the order. To arrive at the expected output, do not amend the order in which actions are arranged in moves (Up, Right, Down, Left).\n",
    "\n",
    "\n",
    "Note. We're looking for a path to goal in the porblems below and not just an ability to find it; you'll need some bookkepping code to be able to keep track of how to construct the resulting path. If needed, refer to Slide 58 of the cs50 slides in Canvas>Modules."
   ]
  },
  {
   "cell_type": "code",
   "execution_count": 9,
   "metadata": {},
   "outputs": [],
   "source": [
    "# feel free to add imports below this cell. See example below:\n",
    "import queue\n",
    "import heapq"
   ]
  },
  {
   "cell_type": "code",
   "execution_count": 10,
   "metadata": {},
   "outputs": [],
   "source": [
    "from copy import deepcopy\n",
    "import math"
   ]
  },
  {
   "cell_type": "code",
   "execution_count": 11,
   "metadata": {},
   "outputs": [],
   "source": [
    "# feel free to add helper functions (each one should be unit tested) below this cell."
   ]
  },
  {
   "cell_type": "code",
   "execution_count": 12,
   "metadata": {},
   "outputs": [],
   "source": [
    "def get_directions(state, world, moves):\n",
    "  \"\"\"\n",
    "    Get all valid next positions\n",
    "\n",
    "    Args:\n",
    "        state (Tuple[int, int]): A tuple indicating the current position in the world\n",
    "        world (List[List[str]]): A 2D grid representing the search area where:\n",
    "            - Empty cells are represented by ⬜'\n",
    "            - Obstacles are represented by '⬛'\n",
    "        moves (List[Tuple[int, int]]): Valid moves that can be made\n",
    "\n",
    "    Returns:\n",
    "        directions (List[Tuple[int, int]]): A list of valid next positions\n",
    "  \"\"\"\n",
    "  directions = []\n",
    "  for move in moves:\n",
    "    nextState = (state[0] + move[0], state[1] + move[1])\n",
    "    # Confirm within bounds\n",
    "    if 0 <= nextState[0] and nextState[0] < len(world):\n",
    "      if 0 <= nextState[1] and nextState[1] < len(world):\n",
    "        # Confirm not an obstacle\n",
    "        if world[nextState[0]][nextState[1]] != '⬛':\n",
    "          directions.append(nextState)\n",
    "\n",
    "  return directions"
   ]
  },
  {
   "cell_type": "code",
   "execution_count": 13,
   "metadata": {},
   "outputs": [],
   "source": [
    "def no_available():\n",
    "  testWorld = [['⬜','⬜','⬜'],\n",
    "             ['⬜','⬛','⬜'],\n",
    "             ['⬛','⬜','⬛']]\n",
    "  assert get_directions((2, 1), testWorld, moves) == []\n",
    "\n",
    "def no_allowed_moves():\n",
    "  testWorld = [['⬜','⬜','⬜'],\n",
    "             ['⬜','⬜','⬜'],\n",
    "             ['⬜','⬜','⬜']]\n",
    "  assert get_directions((2, 1), testWorld, []) == []\n",
    "\n",
    "def corner():\n",
    "  testWorld = [['⬜','⬜','⬜'],\n",
    "             ['⬜','⬜','⬜'],\n",
    "             ['⬜','⬜','⬜']]\n",
    "  assert get_directions((2, 0), testWorld, moves) == [(0, 1), (1, 2)]\n",
    "\n",
    "def obstacle():\n",
    "  testWorld = [['⬜','⬜','⬜'],\n",
    "             ['⬛','⬜','⬜'],\n",
    "             ['⬜','⬜','⬛']]\n",
    "  assert get_directions((2, 1), testWorld, []) == [(1, 2)]\n",
    "\n",
    "def all_available():\n",
    "  testWorld = [['⬜','⬜','⬜'],\n",
    "             ['⬜','⬜','⬜'],\n",
    "             ['⬜','⬜','⬜']]\n",
    "  assert get_directions((1, 1), testWorld, moves) == [(0, 1), (1, 2), (2, 1), (1, 0)]\n",
    "\n",
    "def test_get_directions():\n",
    "  no_available()\n",
    "  no_allowed_moves()\n",
    "  corner()\n",
    "  obstacle()\n",
    "  all_available()"
   ]
  },
  {
   "cell_type": "code",
   "execution_count": 14,
   "metadata": {},
   "outputs": [],
   "source": [
    "def compute_sld(start, end):\n",
    "  \"\"\"\n",
    "    Compute the straight line distance between two nodes\n",
    "\n",
    "    Args:\n",
    "        start (Tuple[int, int]): A tuple indicating the start position in the world\n",
    "        end (Tuple[int, int]): A tuple indicating the end position in the world\n",
    "\n",
    "    Returns:\n",
    "        sld (float): The computed SLD from start to end\n",
    "  \"\"\"\n",
    "  y = abs(start[0] - end[0])\n",
    "  x = abs(start[1] - end[1])\n",
    "  return math.sqrt(y * y + x * x)"
   ]
  },
  {
   "cell_type": "code",
   "execution_count": 15,
   "metadata": {},
   "outputs": [],
   "source": [
    "def zero_distance():\n",
    "  p1 = (1, 1)\n",
    "  assert compute_sld(p1, p1) == 0\n",
    "\n",
    "def horizonal_distance():\n",
    "  p1 = (1, 1)\n",
    "  p2 = (1, 3)\n",
    "  assert compute_sld(p1, p2) == 2\n",
    "\n",
    "def vertical_distance():\n",
    "  p1 = (1, 1)\n",
    "  p2 = (3, 1)\n",
    "  assert compute_sld(p1, p2) == 2\n",
    "\n",
    "def different_x_y():\n",
    "  p1 = (3, 2)\n",
    "  p2 = (1, 4)\n",
    "  assert round(compute_sld(p1, p2), 2) == round(math.sqrt(8), 2)\n",
    "\n",
    "def test_compute_sld():\n",
    "  zero_distance()\n",
    "  horizonal_distance()\n",
    "  vertical_distance()\n",
    "  different_x_y()\n",
    "\n",
    "test_compute_sld()"
   ]
  },
  {
   "cell_type": "code",
   "execution_count": 16,
   "metadata": {},
   "outputs": [],
   "source": [
    "def fill_path(world, previous, goal):\n",
    "    \"\"\"\n",
    "    Fills in the final path to goal\n",
    "\n",
    "    Args:\n",
    "        world (List[List[str]]): A 2D grid representing the search area where:\n",
    "            - Empty cells are represented by ⬜'\n",
    "            - Obstacles are represented by '⬛'\n",
    "            - Cells marked with '🟨' appeared in the frontier\n",
    "        previous (Dict[Tuple, Tuple]): A map to fetch the node used to get to the key node\n",
    "        goal (Tuple[int, int]): End of the path\n",
    "\n",
    "    Returns:\n",
    "        None: The function doesn't return a value but fills in world with the found path:\n",
    "        - Cells on the final path marked with '🟩'\n",
    "        - Original world elements (obstacles, etc.) remain unchanged\n",
    "    \"\"\"\n",
    "    world[goal[0]][goal[1]] = '❤️'\n",
    "\n",
    "    # Traverse path backwards\n",
    "    currentState = previous.get(goal, None)\n",
    "\n",
    "    while previous.get(currentState, None):\n",
    "        world[currentState[0]][currentState[1]] = '🟩'\n",
    "        currentState = previous[currentState]\n",
    "\n",
    "    if currentState:\n",
    "        world[currentState[0]][currentState[1]] = '🤖'\n",
    "\n",
    "    return world"
   ]
  },
  {
   "cell_type": "code",
   "execution_count": 17,
   "metadata": {},
   "outputs": [],
   "source": [
    "testWorld = [['⬜','⬜','⬜'],\n",
    "             ['⬜','⬜','⬜'],\n",
    "             ['⬜','⬜','⬜']]\n",
    "def start_is_end():\n",
    "  goal = (0, 0)\n",
    "  expected = [['❤️','⬜','⬜'],\n",
    "             ['⬜','⬜','⬜'],\n",
    "             ['⬜','⬜','⬜']]\n",
    "  assert fill_path(testWorld, {}, goal) == expected\n",
    "\n",
    "def one_move():\n",
    "  goal = (0, 0)\n",
    "  previous = {goal:(1, 1)}\n",
    "  expected = [['❤️','⬜','⬜'],\n",
    "             ['⬜','🤖','⬜'],\n",
    "             ['⬜','⬜','⬜']]\n",
    "  assert fill_path(testWorld, previous, goal) == expected\n",
    "\n",
    "def multiple_moves():\n",
    "  goal = (0, 0)\n",
    "  p1 = (1, 0)\n",
    "  p2 = (1, 1)\n",
    "  p3 = (2, 1)\n",
    "  previous = {goal:p1, p1:p2, p2:p3}\n",
    "  expected = [['❤️','⬜','⬜'],\n",
    "             ['🟩','🟩','⬜'],\n",
    "             ['⬜','🤖','⬜']]\n",
    "  assert fill_path(testWorld, previous, goal) == expected\n",
    "\n",
    "def test_fill_path():\n",
    "  start_is_end()\n",
    "  one_move()\n",
    "  multiple_moves()\n",
    "\n",
    "test_fill_path()"
   ]
  },
  {
   "cell_type": "code",
   "execution_count": 18,
   "metadata": {},
   "outputs": [],
   "source": [
    "def print_world(world):\n",
    "    \"\"\"\n",
    "    Prints out world grid\n",
    "\n",
    "    Args:\n",
    "        world (List[List[str]]): A 2D grid representing the search area where:\n",
    "            - Empty cells are represented by ⬜'\n",
    "            - Obstacles are represented by '⬛'\n",
    "            - Cells marked with '🟨' appeared in the frontier\n",
    "            - Final path marked with '🟩'\n",
    "\n",
    "    Returns:\n",
    "        None: The function doesn't return a value but prints the visualization of the\n",
    "        search process, showing:\n",
    "        - Cells marked with '🟨' appeared in the frontier\n",
    "        - Final path marked with '🟩'\n",
    "        - Original world elements (obstacles, etc.) remain unchanged\n",
    "    \"\"\"\n",
    "    for row in world:\n",
    "        print(\"\".join(row))"
   ]
  },
  {
   "cell_type": "code",
   "execution_count": null,
   "metadata": {},
   "outputs": [
    {
     "name": "stdout",
     "output_type": "stream",
     "text": [
      "⬜⬜⬜⬜⬜⬜⬜⬜⬜⬜⬜⬜⬜⬜⬜⬜⬜⬜⬜⬜❤️\n",
      "⬜⬜⬜⬜⬜⬜⬜⬜⬜⬜⬜⬜⬜⬜⬜⬜⬜⬜⬜⬜⬜\n",
      "⬜⬜⬜⬜⬜⬜⬜⬜⬜⬜⬜⬜⬜⬜⬜⬜⬜⬜⬜⬜⬜\n",
      "⬜⬜⬜⬜⬜⬜⬜⬜⬜⬜⬜⬜⬜⬜⬜⬜⬜⬜⬜⬜⬜\n",
      "⬜⬜⬜⬜⬜⬜⬜⬜⬜⬜⬜⬜⬜⬜⬜⬜⬜⬜⬜⬜⬜\n",
      "⬜⬜⬜⬜⬜⬜⬜⬜⬜⬜⬜⬜⬜⬜⬜⬜⬜⬜⬜⬜⬜\n",
      "⬜⬜⬜⬜⬜⬜⬜⬜⬜⬜⬜⬜⬜⬜⬜⬜⬜⬜⬜⬜⬜\n",
      "⬜⬜⬜⬜⬜⬜⬜⬜⬜⬜⬜⬜⬜⬜⬜⬜⬜⬜⬜⬜⬜\n",
      "⬜⬜⬜⬜⬜⬜⬜⬜⬜⬜⬜⬜⬜⬜⬜⬜⬜⬜⬜⬜⬜\n",
      "⬜⬜⬜⬜⬜⬜⬜⬜⬜⬛⬛⬛⬜⬜⬜⬜⬜⬜⬜⬜⬜\n",
      "⬜⬜⬜⬜⬜⬜⬜⬜⬜⬛⬛⬛⬜⬜⬜⬜⬜⬜⬜⬜⬜\n",
      "⬜⬜⬜⬜⬜⬜⬜⬜⬜⬛⬛⬛⬜⬜⬜⬜⬜⬜⬜⬜⬜\n",
      "⬜⬜⬜⬜⬜⬜⬜⬜⬜⬜⬜⬜⬜⬜⬜⬜⬜⬜⬜⬜⬜\n",
      "⬜⬜⬜⬜⬜⬜⬜⬜⬜⬜⬜⬜⬜⬜⬜⬜⬜⬜⬜⬜⬜\n",
      "⬜⬜⬜⬜⬜⬜⬜⬜⬜⬜⬜⬜⬜⬜⬜⬜⬜⬜⬜⬜⬜\n",
      "⬜⬜⬜⬜⬜⬜⬜⬜⬜⬜⬜⬜⬜⬜⬜⬜⬜⬜⬜⬜⬜\n",
      "⬜⬜⬜⬜⬜⬜⬜⬜⬜⬜⬜⬜⬜⬜⬜⬜⬜⬜⬜⬜⬜\n",
      "⬜⬜⬜⬜⬜⬜⬜⬜⬜⬜⬜⬜⬜⬜⬜⬜⬜⬜⬜⬜⬜\n",
      "⬜⬜⬜⬜⬜⬜⬜⬜⬜⬜⬜⬜⬜⬜⬜⬜⬜⬜⬜⬜⬜\n",
      "⬜⬜⬜⬜⬜⬜⬜⬜⬜⬜⬜⬜⬜⬜⬜⬜⬜⬜⬜⬜⬜\n",
      "🤖⬜⬜⬜⬜⬜⬜⬜⬜⬜⬜⬜⬜⬜⬜⬜⬜⬜⬜⬜⬜\n"
     ]
    }
   ],
   "source": [
    "# Unit tests don't really apply here since it's just printing\n",
    "print_world(world)  # We can see this matches the expected starting grid"
   ]
  },
  {
   "cell_type": "markdown",
   "metadata": {},
   "source": [
    "## Problem #1\n",
    "\n",
    "\n",
    "Implement a breadth-first search function to help the robot find a path to goal. \n",
    "\n",
    "\n",
    "The output should look like the output above (nicer view of the world), with the following changes:\n",
    "\n",
    "\n",
    "* Replace a '⬜' with '🟨' if that cell was ever placed in the frontier, \n",
    "* Replace '⬜' with '🟩' to indicate the path found by the robot, and\n",
    "* '🤖', '❤️', and '⬛' are not replaced."
   ]
  },
  {
   "cell_type": "code",
   "execution_count": 20,
   "metadata": {},
   "outputs": [],
   "source": [
    "def breadth_first_search(world, start, goal, moves): # Amend argument list as you see fit\n",
    "    \"\"\"\n",
    "    Performs a breadth-first search on a 2D grid world to find a path from start to goal.\n",
    "    \n",
    "    Visualizes the search process by marking explored cells with '🟨' and the final path\n",
    "    with '🟩' in the world grid. The function prints the world state after the search\n",
    "    is complete.\n",
    "\n",
    "    Args:\n",
    "        world (List[List[str]]): A 2D grid representing the search area where:\n",
    "            - Empty cells are represented by ⬜'\n",
    "            - Obstacles are represented by '⬛'\n",
    "            - Other characters may be used for different cell types\n",
    "        start (Tuple[int, int]): Starting point of the robot\n",
    "        goal (Tuple[int, int]): Destination to find path to\n",
    "        moves (List[Tuple[int, int]]): Allowed moves for the robot\n",
    "\n",
    "    Returns:\n",
    "        None: The function doesn't return a value but prints the visualization of the\n",
    "        search process, showing:\n",
    "        - Cells marked with '🟨' appeared in the frontier\n",
    "        - Final path marked with '🟩'\n",
    "        - Original world elements (obstacles, etc.) remain unchanged\n",
    "    \"\"\"\n",
    "    frontier, previous, explored, exploredWorld = queue.Queue(), dict(), set(), deepcopy(world)\n",
    "    frontier.put((start, None))\n",
    "\n",
    "    while not frontier.empty():\n",
    "        state, prev = frontier.get()\n",
    "        \n",
    "        # Skip explored states\n",
    "        if state in explored:\n",
    "            continue\n",
    "        previous[state] = prev\n",
    "        \n",
    "        # Finish when found goal\n",
    "        if state == goal:\n",
    "            break\n",
    "        \n",
    "        explored.add(state)\n",
    "\n",
    "        # Add valid next states to the frontier\n",
    "        directionOptions = get_directions(state, exploredWorld, moves)\n",
    "        for d in directionOptions:\n",
    "            if exploredWorld[d[0]][d[1]] != '🟨':\n",
    "                exploredWorld[d[0]][d[1]] = '🟨'\n",
    "                frontier.put((d, state))\n",
    "\n",
    "    fill_path(exploredWorld, previous, goal)\n",
    "\n",
    "    print_world(exploredWorld)\n",
    "\n",
    "    return"
   ]
  },
  {
   "cell_type": "code",
   "execution_count": 21,
   "metadata": {},
   "outputs": [
    {
     "name": "stdout",
     "output_type": "stream",
     "text": [
      "🟩🟩🟩🟩🟩🟩🟩🟩🟩🟩🟩🟩🟩🟩🟩🟩🟩🟩🟩🟩❤️\n",
      "🟩🟨🟨🟨🟨🟨🟨🟨🟨🟨🟨🟨🟨🟨🟨🟨🟨🟨🟨🟨🟨\n",
      "🟩🟨🟨🟨🟨🟨🟨🟨🟨🟨🟨🟨🟨🟨🟨🟨🟨🟨🟨🟨🟨\n",
      "🟩🟨🟨🟨🟨🟨🟨🟨🟨🟨🟨🟨🟨🟨🟨🟨🟨🟨🟨🟨🟨\n",
      "🟩🟨🟨🟨🟨🟨🟨🟨🟨🟨🟨🟨🟨🟨🟨🟨🟨🟨🟨🟨🟨\n",
      "🟩🟨🟨🟨🟨🟨🟨🟨🟨🟨🟨🟨🟨🟨🟨🟨🟨🟨🟨🟨🟨\n",
      "🟩🟨🟨🟨🟨🟨🟨🟨🟨🟨🟨🟨🟨🟨🟨🟨🟨🟨🟨🟨🟨\n",
      "🟩🟨🟨🟨🟨🟨🟨🟨🟨🟨🟨🟨🟨🟨🟨🟨🟨🟨🟨🟨🟨\n",
      "🟩🟨🟨🟨🟨🟨🟨🟨🟨🟨🟨🟨🟨🟨🟨🟨🟨🟨🟨🟨🟨\n",
      "🟩🟨🟨🟨🟨🟨🟨🟨🟨⬛⬛⬛🟨🟨🟨🟨🟨🟨🟨🟨🟨\n",
      "🟩🟨🟨🟨🟨🟨🟨🟨🟨⬛⬛⬛🟨🟨🟨🟨🟨🟨🟨🟨🟨\n",
      "🟩🟨🟨🟨🟨🟨🟨🟨🟨⬛⬛⬛🟨🟨🟨🟨🟨🟨🟨🟨🟨\n",
      "🟩🟨🟨🟨🟨🟨🟨🟨🟨🟨🟨🟨🟨🟨🟨🟨🟨🟨🟨🟨🟨\n",
      "🟩🟨🟨🟨🟨🟨🟨🟨🟨🟨🟨🟨🟨🟨🟨🟨🟨🟨🟨🟨🟨\n",
      "🟩🟨🟨🟨🟨🟨🟨🟨🟨🟨🟨🟨🟨🟨🟨🟨🟨🟨🟨🟨🟨\n",
      "🟩🟨🟨🟨🟨🟨🟨🟨🟨🟨🟨🟨🟨🟨🟨🟨🟨🟨🟨🟨🟨\n",
      "🟩🟨🟨🟨🟨🟨🟨🟨🟨🟨🟨🟨🟨🟨🟨🟨🟨🟨🟨🟨🟨\n",
      "🟩🟨🟨🟨🟨🟨🟨🟨🟨🟨🟨🟨🟨🟨🟨🟨🟨🟨🟨🟨🟨\n",
      "🟩🟨🟨🟨🟨🟨🟨🟨🟨🟨🟨🟨🟨🟨🟨🟨🟨🟨🟨🟨🟨\n",
      "🟩🟨🟨🟨🟨🟨🟨🟨🟨🟨🟨🟨🟨🟨🟨🟨🟨🟨🟨🟨🟨\n",
      "🤖🟨🟨🟨🟨🟨🟨🟨🟨🟨🟨🟨🟨🟨🟨🟨🟨🟨🟨🟨🟨\n"
     ]
    }
   ],
   "source": [
    "result_1 = breadth_first_search(world, start, goal, moves) # Amend arguments (if needed), but this should ONLY print out a nice view of the world"
   ]
  },
  {
   "cell_type": "markdown",
   "metadata": {},
   "source": [
    "## Problem #2\n",
    "\n",
    "\n",
    "Implement a depth-first search function to help the robot find a path to goal. \n",
    "\n",
    "\n",
    "The output guidelines are similar to Problem #1. "
   ]
  },
  {
   "cell_type": "code",
   "execution_count": 22,
   "metadata": {},
   "outputs": [],
   "source": [
    "def depth_first_search(world, start, goal, moves): # Amend argument list as you see fit\n",
    "    \"\"\"\n",
    "    Performs a depth-first search on a 2D grid world to find a path from start to goal.\n",
    "    \n",
    "    Visualizes the search process by marking explored cells with '🟨' and the final path\n",
    "    with '🟩' in the world grid. The function prints the world state after the search\n",
    "    is complete.\n",
    "\n",
    "    Args:\n",
    "        world (List[List[str]]): A 2D grid representing the search area where:\n",
    "            - Empty cells are represented by ⬜'\n",
    "            - Obstacles are represented by '⬛'\n",
    "            - Other characters may be used for different cell types\n",
    "        start (Tuple[int, int]): Starting point of the robot\n",
    "        goal (Tuple[int, int]): Destination to find path to\n",
    "        moves (List[Tuple[int, int]]): Allowed moves for the robot\n",
    "\n",
    "    Returns:\n",
    "        None: The function doesn't return a value but prints the visualization of the\n",
    "        search process, showing:\n",
    "        - Cells marked with '🟨' appeared in the frontier\n",
    "        - Final path marked with '🟩'\n",
    "        - Original world elements (obstacles, etc.) remain unchanged\n",
    "    \"\"\"\n",
    "    frontier, previous, explored, exploredWorld = queue.LifoQueue(), dict(), set(), deepcopy(world)\n",
    "    frontier.put((start, None))\n",
    "\n",
    "    while not frontier.empty():\n",
    "        state, prev = frontier.get()\n",
    "        \n",
    "        # Skip explored states\n",
    "        if state in explored:\n",
    "            continue\n",
    "        previous[state] = prev\n",
    "        \n",
    "        # Finish when found goal\n",
    "        if state == goal:\n",
    "            break\n",
    "        \n",
    "        explored.add(state)\n",
    "\n",
    "        # Add valid next states to the frontier\n",
    "        directionOptions = get_directions(state, exploredWorld, moves)\n",
    "        directionOptions.reverse()\n",
    "        for d in directionOptions:\n",
    "            if exploredWorld[d[0]][d[1]] != '🟨':\n",
    "                exploredWorld[d[0]][d[1]] = '🟨'\n",
    "                frontier.put((d, state))\n",
    "\n",
    "    fill_path(exploredWorld, previous, goal)\n",
    "\n",
    "    print_world(exploredWorld)\n",
    "    \n",
    "    return"
   ]
  },
  {
   "cell_type": "code",
   "execution_count": 23,
   "metadata": {},
   "outputs": [
    {
     "name": "stdout",
     "output_type": "stream",
     "text": [
      "🟩🟩🟩🟩🟩🟩🟩🟩🟩🟩🟩🟩🟩🟩🟩🟩🟩🟩🟩🟩❤️\n",
      "🟩🟨🟨🟨🟨🟨🟨🟨🟨🟨🟨🟨🟨🟨🟨🟨🟨🟨🟨🟨⬜\n",
      "🟩🟨⬜⬜⬜⬜⬜⬜⬜⬜⬜⬜⬜⬜⬜⬜⬜⬜⬜⬜⬜\n",
      "🟩🟨⬜⬜⬜⬜⬜⬜⬜⬜⬜⬜⬜⬜⬜⬜⬜⬜⬜⬜⬜\n",
      "🟩🟨⬜⬜⬜⬜⬜⬜⬜⬜⬜⬜⬜⬜⬜⬜⬜⬜⬜⬜⬜\n",
      "🟩🟨⬜⬜⬜⬜⬜⬜⬜⬜⬜⬜⬜⬜⬜⬜⬜⬜⬜⬜⬜\n",
      "🟩🟨⬜⬜⬜⬜⬜⬜⬜⬜⬜⬜⬜⬜⬜⬜⬜⬜⬜⬜⬜\n",
      "🟩🟨⬜⬜⬜⬜⬜⬜⬜⬜⬜⬜⬜⬜⬜⬜⬜⬜⬜⬜⬜\n",
      "🟩🟨⬜⬜⬜⬜⬜⬜⬜⬜⬜⬜⬜⬜⬜⬜⬜⬜⬜⬜⬜\n",
      "🟩🟨⬜⬜⬜⬜⬜⬜⬜⬛⬛⬛⬜⬜⬜⬜⬜⬜⬜⬜⬜\n",
      "🟩🟨⬜⬜⬜⬜⬜⬜⬜⬛⬛⬛⬜⬜⬜⬜⬜⬜⬜⬜⬜\n",
      "🟩🟨⬜⬜⬜⬜⬜⬜⬜⬛⬛⬛⬜⬜⬜⬜⬜⬜⬜⬜⬜\n",
      "🟩🟨⬜⬜⬜⬜⬜⬜⬜⬜⬜⬜⬜⬜⬜⬜⬜⬜⬜⬜⬜\n",
      "🟩🟨⬜⬜⬜⬜⬜⬜⬜⬜⬜⬜⬜⬜⬜⬜⬜⬜⬜⬜⬜\n",
      "🟩🟨⬜⬜⬜⬜⬜⬜⬜⬜⬜⬜⬜⬜⬜⬜⬜⬜⬜⬜⬜\n",
      "🟩🟨⬜⬜⬜⬜⬜⬜⬜⬜⬜⬜⬜⬜⬜⬜⬜⬜⬜⬜⬜\n",
      "🟩🟨⬜⬜⬜⬜⬜⬜⬜⬜⬜⬜⬜⬜⬜⬜⬜⬜⬜⬜⬜\n",
      "🟩🟨⬜⬜⬜⬜⬜⬜⬜⬜⬜⬜⬜⬜⬜⬜⬜⬜⬜⬜⬜\n",
      "🟩🟨⬜⬜⬜⬜⬜⬜⬜⬜⬜⬜⬜⬜⬜⬜⬜⬜⬜⬜⬜\n",
      "🟩🟨⬜⬜⬜⬜⬜⬜⬜⬜⬜⬜⬜⬜⬜⬜⬜⬜⬜⬜⬜\n",
      "🤖🟨⬜⬜⬜⬜⬜⬜⬜⬜⬜⬜⬜⬜⬜⬜⬜⬜⬜⬜⬜\n"
     ]
    }
   ],
   "source": [
    "result_2 = depth_first_search(world, start, goal, moves) # Amend arguments (if needed), but this should ONLY print out a nice view of the world"
   ]
  },
  {
   "cell_type": "markdown",
   "metadata": {},
   "source": [
    "## Problem #3\n",
    "\n",
    "\n",
    "Implement an A$^*$ search function to help the robot find the optimal path to goal. For this problem, when calculating the accumulated path cost assume that every step the robot takes costs 1 unit. Use straight-line distance as your heuristic.\n",
    "\n",
    "\n",
    "The output guidelines are similar to Problems 1 and 2. "
   ]
  },
  {
   "cell_type": "code",
   "execution_count": 24,
   "metadata": {},
   "outputs": [],
   "source": [
    "def a_star_search(world, start, goal, moves): # Amend argument list as you see fit)\n",
    "    \"\"\"\n",
    "    Performs an A* search on a 2D grid world to find a path from start to goal.\n",
    "    \n",
    "    Visualizes the search process by marking explored cells with '🟨' and the final path\n",
    "    with '🟩' in the world grid. The function prints the world state after the search\n",
    "    is complete.\n",
    "\n",
    "    Args:\n",
    "        world (List[List[str]]): A 2D grid representing the search area where:\n",
    "            - Empty cells are represented by ⬜'\n",
    "            - Obstacles are represented by '⬛'\n",
    "            - Other characters may be used for different cell types\n",
    "        start (Tuple[int, int]): Starting point of the robot\n",
    "        goal (Tuple[int, int]): Destination to find path to\n",
    "        moves (List[Tuple[int, int]]): Allowed moves for the robot\n",
    "\n",
    "    Returns:\n",
    "        None: The function doesn't return a value but prints the visualization of the\n",
    "        search process, showing:\n",
    "        - Cells marked with '🟨' appeared in the frontier\n",
    "        - Final path marked with '🟩'\n",
    "        - Original world elements (obstacles, etc.) remain unchanged\n",
    "    \"\"\"\n",
    "    frontier, cost, previous, explored, exploredWorld = [], dict(), dict(), set(), deepcopy(world)\n",
    "    heapq.heappush(frontier, (compute_sld(start, goal), (start, None)))\n",
    "\n",
    "    while bool(frontier):\n",
    "        state, prev = heapq.heappop(frontier)[1]\n",
    "        \n",
    "        # Exit when goal is found\n",
    "        if state == goal:\n",
    "            previous[goal] = prev\n",
    "            break\n",
    "\n",
    "        explored.add(state)\n",
    "\n",
    "        # Check all valid moves for reduced cost\n",
    "        directionOptions = get_directions(state, exploredWorld, moves)\n",
    "        for d in directionOptions:\n",
    "            if d not in explored:\n",
    "                costFromStart = cost.get(state, 0) + 1\n",
    "                curCost = cost.get(d, None)\n",
    "                if curCost is None or costFromStart < curCost:\n",
    "                    cost[d] = costFromStart\n",
    "                    heapq.heappush(frontier, (compute_sld(d, goal) + costFromStart, (d, state)))\n",
    "                    previous[d] = state\n",
    "                    exploredWorld[d[0]][d[1]] = '🟨'\n",
    "\n",
    "    fill_path(exploredWorld, previous, goal)\n",
    "\n",
    "    print_world(exploredWorld)\n",
    "    \n",
    "    return"
   ]
  },
  {
   "cell_type": "code",
   "execution_count": 25,
   "metadata": {},
   "outputs": [
    {
     "name": "stdout",
     "output_type": "stream",
     "text": [
      "🟨🟨🟨🟨🟨🟨🟨🟨🟨🟨🟨🟨🟨🟨🟨🟨🟨🟨🟨🟩❤️\n",
      "🟨🟨🟨🟨🟨🟨🟨🟨🟨🟨🟨🟨🟨🟨🟨🟨🟨🟨🟩🟩🟨\n",
      "🟨🟨🟨🟨🟨🟨🟨🟨🟨🟨🟨🟨🟨🟨🟨🟨🟨🟩🟩🟨🟨\n",
      "🟨🟨🟨🟨🟨🟨🟨🟨🟨🟨🟨🟨🟨🟨🟨🟨🟩🟩🟨🟨🟨\n",
      "🟨🟨🟨🟨🟨🟨🟨🟨🟨🟨🟨🟨🟨🟨🟨🟩🟩🟨🟨🟨🟨\n",
      "🟨🟨🟨🟨🟨🟨🟨🟨🟨🟨🟨🟨🟨🟨🟩🟩🟨🟨🟨🟨🟨\n",
      "🟨🟨🟨🟨🟨🟨🟨🟨🟨🟨🟨🟨🟨🟩🟩🟨🟨🟨🟨🟨🟨\n",
      "🟨🟨🟨🟨🟨🟨🟨🟨🟨🟨🟨🟨🟩🟩🟨🟨🟨🟨🟨🟨🟨\n",
      "🟨🟨🟨🟨🟨🟨🟨🟨🟩🟩🟩🟩🟩🟨🟨🟨🟨🟨🟨🟨🟨\n",
      "🟨🟨🟨🟨🟨🟨🟨🟨🟩⬛⬛⬛🟨🟨🟨🟨🟨🟨🟨🟨🟨\n",
      "🟨🟨🟨🟨🟨🟨🟨🟨🟩⬛⬛⬛🟨🟨🟨🟨🟨🟨🟨🟨🟨\n",
      "🟨🟨🟨🟨🟨🟨🟨🟨🟩⬛⬛⬛🟨🟨🟨🟨🟨🟨🟨🟨🟨\n",
      "🟨🟨🟨🟨🟨🟨🟨🟩🟩🟨🟨🟨🟨🟨🟨🟨🟨🟨🟨🟨🟨\n",
      "🟨🟨🟨🟨🟨🟨🟩🟩🟨🟨🟨🟨🟨🟨🟨🟨🟨🟨🟨🟨🟨\n",
      "🟨🟨🟨🟨🟨🟩🟩🟨🟨🟨🟨🟨🟨🟨🟨🟨🟨🟨🟨🟨🟨\n",
      "🟨🟨🟨🟨🟩🟩🟨🟨🟨🟨🟨🟨🟨🟨🟨🟨🟨🟨🟨🟨🟨\n",
      "🟨🟨🟨🟩🟩🟨🟨🟨🟨🟨🟨🟨🟨🟨🟨🟨🟨🟨🟨🟨🟨\n",
      "🟨🟨🟩🟩🟨🟨🟨🟨🟨🟨🟨🟨🟨🟨🟨🟨🟨🟨🟨🟨🟨\n",
      "🟨🟩🟩🟨🟨🟨🟨🟨🟨🟨🟨🟨🟨🟨🟨🟨🟨🟨🟨🟨🟨\n",
      "🟩🟩🟨🟨🟨🟨🟨🟨🟨🟨🟨🟨🟨🟨🟨🟨🟨🟨🟨🟨🟨\n",
      "🤖🟨🟨🟨🟨🟨🟨🟨🟨🟨🟨🟨🟨🟨🟨🟨🟨🟨🟨🟨🟨\n"
     ]
    }
   ],
   "source": [
    "result_3 = a_star_search(world, start, goal, moves) # Amend arguments (if needed), but this should ONLY print out a nice view of the world"
   ]
  },
  {
   "cell_type": "markdown",
   "metadata": {},
   "source": [
    "## Problem #4\n",
    "\n",
    "\n",
    "We're going to swap the start and goal positions and re-run breadth-first search."
   ]
  },
  {
   "cell_type": "code",
   "execution_count": 26,
   "metadata": {},
   "outputs": [],
   "source": [
    "world = create_grid_world() # Reset the world"
   ]
  },
  {
   "cell_type": "code",
   "execution_count": 27,
   "metadata": {},
   "outputs": [],
   "source": [
    "start,goal=goal,start"
   ]
  },
  {
   "cell_type": "code",
   "execution_count": 28,
   "metadata": {},
   "outputs": [],
   "source": [
    "# Update the world with the swap\n",
    "world[start[0]][start[1]] = '🤖'\n",
    "world[goal[0]][goal[1]] = '❤️'"
   ]
  },
  {
   "cell_type": "code",
   "execution_count": 29,
   "metadata": {},
   "outputs": [
    {
     "name": "stdout",
     "output_type": "stream",
     "text": [
      "⬜⬜⬜⬜⬜⬜⬜⬜⬜⬜⬜⬜⬜⬜⬜⬜⬜⬜⬜⬜🤖\n",
      "⬜⬜⬜⬜⬜⬜⬜⬜⬜⬜⬜⬜⬜⬜⬜⬜⬜⬜⬜⬜⬜\n",
      "⬜⬜⬜⬜⬜⬜⬜⬜⬜⬜⬜⬜⬜⬜⬜⬜⬜⬜⬜⬜⬜\n",
      "⬜⬜⬜⬜⬜⬜⬜⬜⬜⬜⬜⬜⬜⬜⬜⬜⬜⬜⬜⬜⬜\n",
      "⬜⬜⬜⬜⬜⬜⬜⬜⬜⬜⬜⬜⬜⬜⬜⬜⬜⬜⬜⬜⬜\n",
      "⬜⬜⬜⬜⬜⬜⬜⬜⬜⬜⬜⬜⬜⬜⬜⬜⬜⬜⬜⬜⬜\n",
      "⬜⬜⬜⬜⬜⬜⬜⬜⬜⬜⬜⬜⬜⬜⬜⬜⬜⬜⬜⬜⬜\n",
      "⬜⬜⬜⬜⬜⬜⬜⬜⬜⬜⬜⬜⬜⬜⬜⬜⬜⬜⬜⬜⬜\n",
      "⬜⬜⬜⬜⬜⬜⬜⬜⬜⬜⬜⬜⬜⬜⬜⬜⬜⬜⬜⬜⬜\n",
      "⬜⬜⬜⬜⬜⬜⬜⬜⬜⬛⬛⬛⬜⬜⬜⬜⬜⬜⬜⬜⬜\n",
      "⬜⬜⬜⬜⬜⬜⬜⬜⬜⬛⬛⬛⬜⬜⬜⬜⬜⬜⬜⬜⬜\n",
      "⬜⬜⬜⬜⬜⬜⬜⬜⬜⬛⬛⬛⬜⬜⬜⬜⬜⬜⬜⬜⬜\n",
      "⬜⬜⬜⬜⬜⬜⬜⬜⬜⬜⬜⬜⬜⬜⬜⬜⬜⬜⬜⬜⬜\n",
      "⬜⬜⬜⬜⬜⬜⬜⬜⬜⬜⬜⬜⬜⬜⬜⬜⬜⬜⬜⬜⬜\n",
      "⬜⬜⬜⬜⬜⬜⬜⬜⬜⬜⬜⬜⬜⬜⬜⬜⬜⬜⬜⬜⬜\n",
      "⬜⬜⬜⬜⬜⬜⬜⬜⬜⬜⬜⬜⬜⬜⬜⬜⬜⬜⬜⬜⬜\n",
      "⬜⬜⬜⬜⬜⬜⬜⬜⬜⬜⬜⬜⬜⬜⬜⬜⬜⬜⬜⬜⬜\n",
      "⬜⬜⬜⬜⬜⬜⬜⬜⬜⬜⬜⬜⬜⬜⬜⬜⬜⬜⬜⬜⬜\n",
      "⬜⬜⬜⬜⬜⬜⬜⬜⬜⬜⬜⬜⬜⬜⬜⬜⬜⬜⬜⬜⬜\n",
      "⬜⬜⬜⬜⬜⬜⬜⬜⬜⬜⬜⬜⬜⬜⬜⬜⬜⬜⬜⬜⬜\n",
      "❤️⬜⬜⬜⬜⬜⬜⬜⬜⬜⬜⬜⬜⬜⬜⬜⬜⬜⬜⬜⬜\n"
     ]
    }
   ],
   "source": [
    "# A nicer view of the world, without commas and brackets\n",
    "for row in world:\n",
    "    print(\"\".join(row))"
   ]
  },
  {
   "cell_type": "code",
   "execution_count": 30,
   "metadata": {},
   "outputs": [
    {
     "name": "stdout",
     "output_type": "stream",
     "text": [
      "🟨🟨🟨🟨🟨🟨🟨🟨🟨🟨🟨🟨🟨🟨🟨🟨🟨🟨🟨🟨🤖\n",
      "🟨🟨🟨🟨🟨🟨🟨🟨🟨🟨🟨🟨🟨🟨🟨🟨🟨🟨🟨🟨🟩\n",
      "🟨🟨🟨🟨🟨🟨🟨🟨🟨🟨🟨🟨🟨🟨🟨🟨🟨🟨🟨🟨🟩\n",
      "🟨🟨🟨🟨🟨🟨🟨🟨🟨🟨🟨🟨🟨🟨🟨🟨🟨🟨🟨🟨🟩\n",
      "🟨🟨🟨🟨🟨🟨🟨🟨🟨🟨🟨🟨🟨🟨🟨🟨🟨🟨🟨🟨🟩\n",
      "🟨🟨🟨🟨🟨🟨🟨🟨🟨🟨🟨🟨🟨🟨🟨🟨🟨🟨🟨🟨🟩\n",
      "🟨🟨🟨🟨🟨🟨🟨🟨🟨🟨🟨🟨🟨🟨🟨🟨🟨🟨🟨🟨🟩\n",
      "🟨🟨🟨🟨🟨🟨🟨🟨🟨🟨🟨🟨🟨🟨🟨🟨🟨🟨🟨🟨🟩\n",
      "🟨🟨🟨🟨🟨🟨🟨🟨🟨🟨🟨🟨🟨🟨🟨🟨🟨🟨🟨🟨🟩\n",
      "🟨🟨🟨🟨🟨🟨🟨🟨🟨⬛⬛⬛🟨🟨🟨🟨🟨🟨🟨🟨🟩\n",
      "🟨🟨🟨🟨🟨🟨🟨🟨🟨⬛⬛⬛🟨🟨🟨🟨🟨🟨🟨🟨🟩\n",
      "🟨🟨🟨🟨🟨🟨🟨🟨🟨⬛⬛⬛🟨🟨🟨🟨🟨🟨🟨🟨🟩\n",
      "🟨🟨🟨🟨🟨🟨🟨🟨🟨🟨🟨🟨🟨🟨🟨🟨🟨🟨🟨🟨🟩\n",
      "🟨🟨🟨🟨🟨🟨🟨🟨🟨🟨🟨🟨🟨🟨🟨🟨🟨🟨🟨🟨🟩\n",
      "🟨🟨🟨🟨🟨🟨🟨🟨🟨🟨🟨🟨🟨🟨🟨🟨🟨🟨🟨🟨🟩\n",
      "🟨🟨🟨🟨🟨🟨🟨🟨🟨🟨🟨🟨🟨🟨🟨🟨🟨🟨🟨🟨🟩\n",
      "🟨🟨🟨🟨🟨🟨🟨🟨🟨🟨🟨🟨🟨🟨🟨🟨🟨🟨🟨🟨🟩\n",
      "🟨🟨🟨🟨🟨🟨🟨🟨🟨🟨🟨🟨🟨🟨🟨🟨🟨🟨🟨🟨🟩\n",
      "🟨🟨🟨🟨🟨🟨🟨🟨🟨🟨🟨🟨🟨🟨🟨🟨🟨🟨🟨🟨🟩\n",
      "🟨🟨🟨🟨🟨🟨🟨🟨🟨🟨🟨🟨🟨🟨🟨🟨🟨🟨🟨🟨🟩\n",
      "❤️🟩🟩🟩🟩🟩🟩🟩🟩🟩🟩🟩🟩🟩🟩🟩🟩🟩🟩🟩🟩\n"
     ]
    }
   ],
   "source": [
    "result_4 = breadth_first_search(world, start, goal, moves) # Amend arguments (if needed), but this should ONLY print out a nice view of the world"
   ]
  },
  {
   "cell_type": "markdown",
   "metadata": {},
   "source": [
    "## Problem #5\n",
    "\n",
    "\n",
    "With the swapped start and goal positions, run depth-first search."
   ]
  },
  {
   "cell_type": "code",
   "execution_count": 31,
   "metadata": {},
   "outputs": [
    {
     "name": "stdout",
     "output_type": "stream",
     "text": [
      "🟨🟨🟩🟩🟩🟨🟩🟩🟩🟨🟨🟨🟩🟩🟩🟨🟩🟩🟩🟨🤖\n",
      "🟨🟨🟩🟨🟩🟨🟩🟨🟩🟨🟨🟨🟩🟨🟩🟨🟩🟨🟩🟨🟩\n",
      "🟨🟨🟩🟨🟩🟨🟩🟨🟩🟨🟨🟨🟩🟨🟩🟨🟩🟨🟩🟨🟩\n",
      "🟨🟨🟩🟨🟩🟨🟩🟨🟩🟨🟨🟨🟩🟨🟩🟨🟩🟨🟩🟨🟩\n",
      "🟨🟨🟩🟨🟩🟨🟩🟨🟩🟨🟨🟨🟩🟨🟩🟨🟩🟨🟩🟨🟩\n",
      "🟨🟨🟩🟨🟩🟨🟩🟨🟩🟨🟨🟨🟩🟨🟩🟨🟩🟨🟩🟨🟩\n",
      "🟨🟨🟩🟨🟩🟨🟩🟨🟩🟨🟨🟨🟩🟨🟩🟨🟩🟨🟩🟨🟩\n",
      "🟨🟨🟩🟨🟩🟨🟩🟨🟩🟨🟨🟨🟩🟨🟩🟨🟩🟨🟩🟨🟩\n",
      "🟨🟨🟩🟨🟩🟨🟩🟨🟩🟨🟨🟨🟩🟨🟩🟨🟩🟨🟩🟨🟩\n",
      "🟨🟨🟩🟨🟩🟨🟩🟨🟩⬛⬛⬛🟩🟨🟩🟨🟩🟨🟩🟨🟩\n",
      "🟨🟨🟩🟨🟩🟨🟩🟨🟩⬛⬛⬛🟩🟨🟩🟨🟩🟨🟩🟨🟩\n",
      "🟨🟨🟩🟨🟩🟨🟩🟨🟩⬛⬛⬛🟩🟨🟩🟨🟩🟨🟩🟨🟩\n",
      "🟨🟨🟩🟨🟩🟨🟩🟨🟩🟩🟩🟨🟩🟨🟩🟨🟩🟨🟩🟨🟩\n",
      "🟨🟨🟩🟨🟩🟨🟩🟩🟨🟨🟩🟨🟩🟨🟩🟨🟩🟨🟩🟨🟩\n",
      "🟨🟨🟩🟨🟩🟩🟨🟩🟩🟨🟩🟨🟩🟨🟩🟨🟩🟨🟩🟨🟩\n",
      "🟨🟨🟩🟩🟨🟩🟩🟨🟩🟨🟩🟨🟩🟨🟩🟨🟩🟨🟩🟨🟩\n",
      "🟨🟨🟨🟩🟩🟨🟩🟨🟩🟨🟩🟨🟩🟨🟩🟨🟩🟨🟩🟨🟩\n",
      "🟩🟩🟩🟨🟩🟨🟩🟨🟩🟨🟩🟨🟩🟨🟩🟨🟩🟨🟩🟨🟩\n",
      "🟩🟨🟩🟨🟩🟨🟩🟨🟩🟨🟩🟨🟩🟨🟩🟨🟩🟨🟩🟨🟩\n",
      "🟩🟨🟩🟨🟩🟨🟩🟨🟩🟨🟩🟨🟩🟨🟩🟨🟩🟨🟩🟨🟩\n",
      "❤️🟨🟩🟩🟩🟨🟩🟩🟩🟨🟩🟩🟩🟨🟩🟩🟩🟨🟩🟩🟩\n"
     ]
    }
   ],
   "source": [
    "result_5 = depth_first_search(world, start, goal, moves) # Amend arguments (if needed), but this should ONLY print out a nice view of the world"
   ]
  },
  {
   "cell_type": "markdown",
   "metadata": {},
   "source": [
    "## Problem #6\n",
    "\n",
    "\n",
    "Revisit your response to Quiz #1, Question #7. Add your response below. If there's mismatch, clearly explain what you have learned in the process. If your results are consistent with your expectations, briefly explain the output."
   ]
  },
  {
   "cell_type": "markdown",
   "metadata": {},
   "source": [
    "| Quiz #1, Question #7 | Briefly explain output OR clearly explain what you have learned | \n",
    "|------|------|\n",
    "|Problem #1 Output| The output was as I expected, since it follows the order of moves and explores the entire board. Breadth-first search will continually explore each depth, expanding outwards until it finds the first available path. The level by level exploration is what causes the fully explored board, and the first available path is up then right because that is the order of move priority. |\n",
    "|Problem #2 Output| Unlike Breadth-first, Depth-first pursues a single path, so it does not end up exploring the entire board. Only the positions immediately adjacent to the found path are added to the frontier, as the same up then right pattern succeeds on the first try. |\n",
    "|Problem #3 Output| The up-right pattern of A* search results from those two moves being the first available that are always moving most directly towards the correct destination. Since it is optimizing based on straight line distance, the move resulting in the shortest distance to goal alternates between up and right until the goal is reached, with the only break being the forced routing and recorrecting around the obstacle. |\n",
    "|Problem #4 Output| Breadth-first search behaves similarly here to as it does in Problem #1, but instead of going up and right, it is forced to go down and left since those are the first available moves. |\n",
    "|Problem #5 Output| The convoluted path here results from the fact that Depth-first search sticks to the same path, but the swapped direction results in suboptimal moves. Even when a better decision is to go left, the robot goes up since that is the first available move. |"
   ]
  },
  {
   "cell_type": "markdown",
   "metadata": {},
   "source": [
    "## Before You Submit...\n",
    "\n",
    "00. Re-read the general instructions provided above, and\n",
    "01. Hit \"Kernel\"->\"Restart & Run All\". The first cell that is run should show [1], the second should show [2], and so on...\n",
    "02. Submit your notebook (as .ipynb, not PDF) using Gradescope, and\n",
    "03.  Do not submit any other files."
   ]
  }
 ],
 "metadata": {
  "kernelspec": {
   "display_name": "Python 3",
   "language": "python",
   "name": "python3"
  },
  "language_info": {
   "codemirror_mode": {
    "name": "ipython",
    "version": 3
   },
   "file_extension": ".py",
   "mimetype": "text/x-python",
   "name": "python",
   "nbconvert_exporter": "python",
   "pygments_lexer": "ipython3",
   "version": "3.9.6"
  },
  "toc": {
   "colors": {
    "hover_highlight": "#DAA520",
    "navigate_num": "#000000",
    "navigate_text": "#333333",
    "running_highlight": "#FF0000",
    "selected_highlight": "#FFD700",
    "sidebar_border": "#EEEEEE",
    "wrapper_background": "#FFFFFF"
   },
   "moveMenuLeft": true,
   "nav_menu": {
    "height": "192px",
    "width": "252px"
   },
   "navigate_menu": true,
   "number_sections": true,
   "sideBar": true,
   "threshold": 4,
   "toc_cell": false,
   "toc_section_display": "block",
   "toc_window_display": false,
   "widenNotebook": false
  }
 },
 "nbformat": 4,
 "nbformat_minor": 4
}
