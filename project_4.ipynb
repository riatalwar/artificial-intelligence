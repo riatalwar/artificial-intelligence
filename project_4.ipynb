{
 "cells": [
  {
   "cell_type": "markdown",
   "metadata": {},
   "source": [
    "# Artificial Intelligence\n",
    "# 464\n",
    "# Project #4\n",
    "\n",
    "## Before You Begin...\n",
    "00. We're using a Jupyter Notebook environment (tutorial available here: https://jupyter-notebook-beginner-guide.readthedocs.io/en/latest/what_is_jupyter.html),\n",
    "01. Read the entire notebook before beginning your work, and\n",
    "02.  Check the submission deadline on Gradescope.\n",
    "\n",
    "\n",
    "## General Directions for this Assignment\n",
    "00. Output format should be exactly as requested,\n",
    "01. Functions should do only one thing,\n",
    "02. Keep functions to 20 lines or less (empty lines are fine, there's leeway, but don't blatantly ignore this),\n",
    "03. Add docstring to all functions,\n",
    "\n",
    "\n",
    "## Before You Submit...\n",
    "00. Re-read the general instructions provided above, and\n",
    "01. Hit \"Kernel\"->\"Restart & Run All\". The first cell that is run should show [1], the second should show [2], and so on...\n",
    "02. Submit your notebook (as .ipynb, not PDF) using Gradescope, and\n",
    "03.  Do not submit any other files."
   ]
  },
  {
   "cell_type": "code",
   "execution_count": 450,
   "metadata": {},
   "outputs": [],
   "source": [
    "%matplotlib inline\n",
    "\n",
    "import matplotlib.pyplot as plt\n",
    "import networkx as nx\n",
    "from copy import deepcopy\n",
    "import random"
   ]
  },
  {
   "cell_type": "markdown",
   "metadata": {},
   "source": [
    "You might need to do a install to work with networkx\n",
    "\n",
    "```\n",
    "pip install networkx\n",
    "```"
   ]
  },
  {
   "cell_type": "code",
   "execution_count": 451,
   "metadata": {},
   "outputs": [],
   "source": [
    "class Node():\n",
    "  def __init__(self, name, idx, coordinates, adjacent_nodes):\n",
    "    '''\n",
    "    Initialize a Node object\n",
    "\n",
    "    Args:\n",
    "      name (string): label associated with node\n",
    "      idx (int): index associated with node\n",
    "      coordinates (Tuple[int, int]): coordinates of node\n",
    "      adjacent_notes (int[]): list of nodes adjacent to current\n",
    "\n",
    "    Returns:\n",
    "      None\n",
    "    '''\n",
    "    self.name = name\n",
    "    self.index = idx\n",
    "    self.adjacent = adjacent_nodes\n",
    "    self.coords = coordinates\n",
    "    self.color = None"
   ]
  },
  {
   "cell_type": "code",
   "execution_count": 452,
   "metadata": {},
   "outputs": [],
   "source": [
    "def init_graph(constraint_graph):\n",
    "  '''\n",
    "  Initialize a graph with Node objects based on contraint graph structure\n",
    "\n",
    "  Args:\n",
    "    constraint_graph (Dict[nodes: string[], edges: Tuple[int, int], coordinates: Tuple[int, int]]):\n",
    "      dictionary representing nodes, edges, and node coordinates for a graph\n",
    "\n",
    "  Returns:\n",
    "    Node[] - list of nodes in the graph\n",
    "  '''\n",
    "  # create adjacency lists\n",
    "  adjacent_nodes = [set() for i in range(len(constraint_graph['nodes']))]\n",
    "  for i, j in constraint_graph['edges']:\n",
    "    adjacent_nodes[i].add(j)\n",
    "    adjacent_nodes[j].add(i)\n",
    "\n",
    "  # initialize nodes\n",
    "  graph = []\n",
    "  for i in range(len(constraint_graph['nodes'])):\n",
    "    graph.append(Node(constraint_graph['nodes'][i], i, constraint_graph['coordinates'][i], adjacent_nodes[i]))\n",
    "\n",
    "  return graph\n"
   ]
  },
  {
   "cell_type": "markdown",
   "metadata": {},
   "source": [
    "## Part 1: Constraint Satisfaction"
   ]
  },
  {
   "cell_type": "markdown",
   "metadata": {},
   "source": [
    "## Map Coloring\n",
    "\n",
    "It turns out that any division of a plane into contiguous regions can be colored such that no two adjacent regions are the same color by using only four colors (see [Four Color Theorem](http://en.wikipedia.org/wiki/Four_color_theorem), for more details) This **Constraint Satisfaction Problem** can be viewed as a constraint graph, where variables are nodes and no adjacent nodes can be of the same color.\n",
    "\n",
    "\n",
    "Our first constraint graph is the dictionary `connecticut_graph` with three keys: 1) \"nodes,\" which is a ordered list of strings that represent the nodes; 2) \"edges,\" which indicates with tuples which nodes are adjacent; and 3) the \"coordinates\" key helps NetworkX make cartoons."
   ]
  },
  {
   "cell_type": "code",
   "execution_count": 453,
   "metadata": {},
   "outputs": [
    {
     "name": "stdout",
     "output_type": "stream",
     "text": [
      "{'nodes': ['Fairfield', 'Litchfield', 'New Haven', 'Hartford', 'Middlesex', 'Tolland', 'New London', 'Windham'], 'edges': [(0, 1), (0, 2), (1, 2), (1, 3), (2, 3), (2, 4), (3, 4), (3, 5), (3, 6), (4, 6), (5, 6), (5, 7), (6, 7)], 'coordinates': [(46, 52), (65, 142), (104, 77), (123, 142), (147, 85), (162, 140), (197, 94), (217, 146)]}\n"
     ]
    }
   ],
   "source": [
    "connecticut_graph = { \"nodes\": [\"Fairfield\", \"Litchfield\", \"New Haven\", \"Hartford\", \"Middlesex\", \"Tolland\", \"New London\", \"Windham\"],\n",
    "                \"edges\": [(0,1), (0,2), (1,2), (1,3), (2,3), (2,4), (3,4), (3,5), (3,6), (4,6), (5,6), (5,7), (6,7)],\n",
    "                \"coordinates\": [( 46, 52), ( 65,142), (104, 77), (123,142), (147, 85), (162,140), (197, 94), (217,146)]}\n",
    "print(connecticut_graph)"
   ]
  },
  {
   "cell_type": "code",
   "execution_count": 454,
   "metadata": {},
   "outputs": [],
   "source": [
    "def get_valid_colors(node, graph, color_list):\n",
    "  \"\"\"\n",
    "  Get remaining valid colors for a given node\n",
    "\n",
    "  Args:\n",
    "    node (Node): node to get valid color set for\n",
    "    graph (Node[]): list of nodes representing constraint graph\n",
    "    color_list (string[]): list of valid color options\n",
    "\n",
    "  Returns:\n",
    "    Set[string] - set of available colors\n",
    "  \"\"\"\n",
    "  available = set(color_list)\n",
    "  for a in node.adjacent:\n",
    "    if graph[a].color is not None:\n",
    "      available.discard(color_list[graph[a].color])\n",
    "\n",
    "  return available"
   ]
  },
  {
   "cell_type": "code",
   "execution_count": 455,
   "metadata": {},
   "outputs": [],
   "source": [
    "def forward_check(node, graph, color_list):\n",
    "  \"\"\"\n",
    "  Check validity of current graph to ensure node assignment still has possible solution\n",
    "\n",
    "  Args:\n",
    "    node (Node): node to validate assignment for\n",
    "    graph (Node[]): list of nodes representing constraint graph\n",
    "    color_list (string[]): list of valid color options\n",
    "\n",
    "  Returns:\n",
    "    boolean - if the given assignment still has a possible solution\n",
    "  \"\"\"\n",
    "  # check that no adjacent node has no remaining options\n",
    "  for n in node.adjacent:\n",
    "    avail = get_valid_colors(graph[n], graph, color_list)\n",
    "    if len(avail) == 0: return False\n",
    "  \n",
    "  return True\n"
   ]
  },
  {
   "cell_type": "code",
   "execution_count": 456,
   "metadata": {},
   "outputs": [],
   "source": [
    "def mrv(graph, color_list):\n",
    "  \"\"\"\n",
    "  Find the node in the graph with the minimum remaining values\n",
    "\n",
    "  Args:\n",
    "    graph (Node[]): list of nodes representing constraint graph\n",
    "    color_list (string[]): list of valid color options\n",
    "\n",
    "  Returns:\n",
    "    int - index of node with minimum remaining values\n",
    "  \"\"\"\n",
    "  remaining = []\n",
    "\n",
    "  # calculate number of remaining colors for each node\n",
    "  for node in graph:\n",
    "    # max out remaining if node already assigned\n",
    "    if node.color is not None:\n",
    "      remaining.append(len(color_list))\n",
    "      continue\n",
    "\n",
    "    # calculate remaining colors for unassigned\n",
    "    avail = set(color_list)\n",
    "    for a in node.adjacent:\n",
    "      if graph[a].color is not None:\n",
    "        avail.discard(color_list[graph[a].color])\n",
    "\n",
    "    remaining.append(len(avail))\n",
    "\n",
    "  # return idx of first node with min remaining vals\n",
    "  return remaining.index(min(remaining))\n"
   ]
  },
  {
   "cell_type": "code",
   "execution_count": 457,
   "metadata": {},
   "outputs": [],
   "source": [
    "def lcv(node, graph, color_list, valid_options):\n",
    "  \"\"\"\n",
    "  Get least constraining color option for given node\n",
    "\n",
    "  Args:\n",
    "    node (Node): node to find lcv for\n",
    "    graph (Node[]): list of nodes representing constraint graph\n",
    "    color_list (string[]): list of valid color options\n",
    "    valid_options (Set[string]): set of valid color options for node\n",
    "\n",
    "  Returns:\n",
    "    int[] - indexes of valid color options\n",
    "  \"\"\"\n",
    "  # get unassigned nodes in graph\n",
    "  unassigned = [graph[adj] for adj in node.adjacent if graph[adj].color is None]\n",
    "  # get indexes of valid color options\n",
    "  valid_options = [i for i in range(len(color_list)) if i in valid_options]\n",
    "  # tracker for num remaining options for given color assignment\n",
    "  lcvOptions = [0] * len(color_list)\n",
    "  \n",
    "\n",
    "  # tally up number of options for each color\n",
    "  for i in valid_options:\n",
    "    # get remaining options for unassigned adjacent nodes\n",
    "    for n in unassigned:\n",
    "      # count remaining options for unassigned nodes\n",
    "      if n.color is None:\n",
    "        available = get_valid_colors(n, graph, color_list)\n",
    "        available.discard(color_list[i])\n",
    "        if len(available) == 0: break\n",
    "        lcvOptions[i] += len(available)\n",
    "\n",
    "  # sort options by least to most constrained\n",
    "  valid_options.sort(key=lambda x: lcvOptions[x], reverse=True)\n",
    "  return valid_options\n",
    "\n"
   ]
  },
  {
   "cell_type": "code",
   "execution_count": 458,
   "metadata": {},
   "outputs": [],
   "source": [
    "def backtrack(idx, graph, color_list):\n",
    "  \"\"\"\n",
    "  CSP recursive backtracking process\n",
    "\n",
    "  Args:\n",
    "    idx (int): index of node to test assignments for\n",
    "    graph (Node[]): list of nodes representing constraint graph\n",
    "    color_list (string[]): list of valid color options\n",
    "\n",
    "  Returns:\n",
    "    Tuple[int, string] | None - solution set of node, color pairs or None if no solution\n",
    "  \"\"\"\n",
    "  node = graph[idx]\n",
    "  # base case: already assigned, return solution\n",
    "  if node.color is not None:\n",
    "    return [(n.index, color_list[n.color]) for n in graph]\n",
    "\n",
    "  # if node has no valid colors, no solution\n",
    "  avail_colors = get_valid_colors(node, graph, color_list)\n",
    "  avail_colors = [i for i in range(len(color_list)) if color_list[i] in avail_colors]\n",
    "  if len(avail_colors) == 0: return None\n",
    "  \n",
    "  # by order of least constrained colors, test color for solution\n",
    "  lcvs = lcv(node, graph, color_list, avail_colors)\n",
    "  for color in lcvs:\n",
    "    node.color = color\n",
    "\n",
    "    # forward check to ensure solution is still possible\n",
    "    if not forward_check(node, graph, color_list):\n",
    "      continue\n",
    "\n",
    "    # solution possible --> recursively test colors for most restricted\n",
    "    m = mrv(graph, color_list)\n",
    "    sol = backtrack(m, graph, color_list)\n",
    "    if sol is not None:\n",
    "      return sol\n",
    "    \n",
    "  # No solution --> clear assignment\n",
    "  node.color = None\n",
    "  return None"
   ]
  },
  {
   "cell_type": "code",
   "execution_count": null,
   "metadata": {},
   "outputs": [],
   "source": [
    "def color_map(constraint_graph, color_list, trace=False):\n",
    "    \"\"\"\n",
    "    This function colors a map provided as a constraint graph (dict keys: nodes, edges, and coordinate)\n",
    "    The inputs are the constraint graph and a list of colors. \n",
    "    Implementation should feature: \n",
    "    1) Backtracking, 2) Forward Checking, 3) variables picked using MRV, and 4) Values picked using LCV. \n",
    "    Each feature should be its own helper function.  \n",
    "    The trace is a flag that when set to True, prints out statements that state what the algorithm\n",
    "    is currently doing (in terms of the four features)\n",
    "    Return a list of (node name, assigned color) tuples, where \n",
    "    the ordering matches the original ordering of nodes in the constraint_graph. \n",
    "    For example, if we had `[\"A\", \"B\"]` as nodes and `[\"Yellow\", \"Green\"]` as colors, \n",
    "    your function might return `[(\"A\", \"Yellow\"), (\"B\", \"Green\")]`\n",
    "    If the CSP cannot find a solution, `None` is returned.\n",
    "    \"\"\"\n",
    "    # Fix. Everything is colored red right now. \n",
    "    # With your implementation, if a solution can't be found, it should return `None`.\n",
    "    # Add features: \n",
    "    # 1) Backtracking, \n",
    "    # 2) Forward Checking, \n",
    "    # 3) Variables picked using MRV, and \n",
    "    # 4) Values picked using LCV \n",
    "    # Features should be helper functions\n",
    "    graph = init_graph(constraint_graph)\n",
    "    solution = backtrack(0, graph, color_list)\n",
    "    return solution\n",
    "    \n",
    "    # return [(n, \"red\") for n in constraint_graph[\"nodes\"]]"
   ]
  },
  {
   "cell_type": "code",
   "execution_count": 460,
   "metadata": {},
   "outputs": [],
   "source": [
    "def test_coloring(constraint_graph, solution):\n",
    "    \"\"\"\n",
    "    This function tests the solution resulting from `color_map`. \n",
    "    Adjacent nodes in the solution cannot be of the same color.\n",
    "    constraint_graph is the dict with keys: nodes, edges, and coordinates.\n",
    "    solution is a list of (node name, assigned color) tuples\n",
    "    Returns a warning statement if there's a violation\n",
    "    \"\"\"\n",
    "    nodes = constraint_graph[ \"nodes\"]\n",
    "    edges = constraint_graph[\"edges\"]\n",
    "    for start, end in edges:\n",
    "        try:\n",
    "            assert solution[start][1] != solution[end][1]\n",
    "        except AssertionError:\n",
    "            print(f\"{nodes[start]} and {nodes[end]} are adjacent but have the same color.\")"
   ]
  },
  {
   "cell_type": "code",
   "execution_count": 461,
   "metadata": {},
   "outputs": [],
   "source": [
    "def draw_map(title, constraint_graph, size, solution=None):\n",
    "    \"\"\"\n",
    "    This function uses Networkx to draw the `constraint_graph` (dict keys: nodes, edges, and coordinate) \n",
    "    Nodes are colored using `solution`, a list of (node name, assigned color) tuples\n",
    "    title is the title for the cartoon\n",
    "    size is in inches wide x inches tall, so (8,10) results in 8\"x10\" rendering (depends on monitor)\n",
    "    \"\"\"\n",
    "    \n",
    "    def as_dictionary(a_list):\n",
    "        dct = {}\n",
    "        for i, e in enumerate(a_list):\n",
    "            dct[i] = e\n",
    "        return dct\n",
    "    \n",
    "    G = nx.Graph()\n",
    "    \n",
    "    labels = as_dictionary(constraint_graph[\"nodes\"])\n",
    "    pos = as_dictionary(constraint_graph[\"coordinates\"])\n",
    "    \n",
    "    # create a List of Nodes as indices to match the \"edges\" entry.\n",
    "    nodes = [n for n in range(0, len(constraint_graph[\"nodes\"]))]\n",
    "\n",
    "    if solution:\n",
    "        colors = [c for n, c in solution]\n",
    "    else:\n",
    "        colors = ['red' for c in range(0,len(constraint_graph[\"nodes\"]))]\n",
    "\n",
    "    G.add_nodes_from(nodes)\n",
    "    G.add_edges_from(constraint_graph[\"edges\"])\n",
    "\n",
    "    plt.figure(figsize=size, dpi=100)\n",
    "    plt.title(title)\n",
    "    nx.draw(G, node_color = colors, with_labels = True, labels = labels, pos = pos)\n",
    "    \n",
    "#    plt.savefig(name + \".png\")"
   ]
  },
  {
   "cell_type": "markdown",
   "metadata": {},
   "source": [
    "## Problem 1. Color Connecticut with Four Colors"
   ]
  },
  {
   "cell_type": "code",
   "execution_count": 462,
   "metadata": {},
   "outputs": [
    {
     "name": "stdout",
     "output_type": "stream",
     "text": [
      "[(0, 'red'), (1, 'blue'), (2, 'green'), (3, 'red'), (4, 'blue'), (5, 'blue'), (6, 'green'), (7, 'red')]\n"
     ]
    }
   ],
   "source": [
    "connecticut_solution = color_map(connecticut_graph, [\"red\", \"blue\", \"green\", \"yellow\"], trace=True)"
   ]
  },
  {
   "cell_type": "markdown",
   "metadata": {},
   "source": [
    "## Test Connecticut Solution"
   ]
  },
  {
   "cell_type": "code",
   "execution_count": 463,
   "metadata": {},
   "outputs": [],
   "source": [
    "if connecticut_solution:\n",
    "    test_coloring(connecticut_graph, connecticut_solution)"
   ]
  },
  {
   "cell_type": "markdown",
   "metadata": {},
   "source": [
    "## Draw Connecticut Cartoon"
   ]
  },
  {
   "cell_type": "code",
   "execution_count": 464,
   "metadata": {},
   "outputs": [
    {
     "data": {
      "image/png": "[encoded data removed]",
      "text/plain": [
       "<Figure size 500x400 with 1 Axes>"
      ]
     },
     "metadata": {},
     "output_type": "display_data"
    }
   ],
   "source": [
    "if connecticut_solution:\n",
    "    draw_map(\"Connecticut\", connecticut_graph, (5,4), connecticut_solution)"
   ]
  },
  {
   "cell_type": "markdown",
   "metadata": {},
   "source": [
    "## Problem 2. Color Connecticut with Three Colors"
   ]
  },
  {
   "cell_type": "code",
   "execution_count": 465,
   "metadata": {},
   "outputs": [
    {
     "name": "stdout",
     "output_type": "stream",
     "text": [
      "[(0, 'red'), (1, 'blue'), (2, 'green'), (3, 'red'), (4, 'blue'), (5, 'blue'), (6, 'green'), (7, 'red')]\n"
     ]
    }
   ],
   "source": [
    "connecticut_solution = color_map(connecticut_graph, [\"red\", \"blue\", \"green\"], trace=True)"
   ]
  },
  {
   "cell_type": "markdown",
   "metadata": {},
   "source": [
    "## Test Connecticut Solution"
   ]
  },
  {
   "cell_type": "code",
   "execution_count": 466,
   "metadata": {},
   "outputs": [],
   "source": [
    "if connecticut_solution:\n",
    "    test_coloring(connecticut_graph, connecticut_solution)"
   ]
  },
  {
   "cell_type": "markdown",
   "metadata": {},
   "source": [
    "## Draw Connecticut Cartoon"
   ]
  },
  {
   "cell_type": "code",
   "execution_count": 467,
   "metadata": {},
   "outputs": [
    {
     "data": {
      "image/png": "[encoded data removed]",
      "text/plain": [
       "<Figure size 500x400 with 1 Axes>"
      ]
     },
     "metadata": {},
     "output_type": "display_data"
    }
   ],
   "source": [
    "if connecticut_solution:\n",
    "    draw_map(\"connecticut\", connecticut_graph, (5,4), connecticut_solution)"
   ]
  },
  {
   "cell_type": "markdown",
   "metadata": {},
   "source": [
    "## Problem 3. Color Europe with Four Colors"
   ]
  },
  {
   "cell_type": "code",
   "execution_count": 468,
   "metadata": {
    "scrolled": true
   },
   "outputs": [
    {
     "name": "stdout",
     "output_type": "stream",
     "text": [
      "{'nodes': ['Iceland', 'Ireland', 'United Kingdom', 'Portugal', 'Spain', 'France', 'Belgium', 'Netherlands', 'Luxembourg', 'Germany', 'Denmark', 'Norway', 'Sweden', 'Finland', 'Estonia', 'Latvia', 'Lithuania', 'Poland', 'Czech Republic', 'Austria', 'Liechtenstein', 'Switzerland', 'Italy', 'Malta', 'Greece', 'Albania', 'Macedonia', 'Kosovo', 'Montenegro', 'Bosnia Herzegovina', 'Serbia', 'Croatia', 'Slovenia', 'Hungary', 'Slovakia', 'Belarus', 'Ukraine', 'Moldova', 'Romania', 'Bulgaria', 'Cyprus', 'Turkey', 'Georgia', 'Armenia', 'Azerbaijan', 'Russia'], 'edges': [(0, 1), (0, 2), (1, 2), (2, 5), (2, 6), (2, 7), (2, 11), (3, 4), (4, 5), (4, 22), (5, 6), (5, 8), (5, 9), (5, 21), (5, 22), (6, 7), (6, 8), (6, 9), (7, 9), (8, 9), (9, 10), (9, 12), (9, 17), (9, 18), (9, 19), (9, 21), (10, 11), (10, 12), (10, 17), (11, 12), (11, 13), (11, 45), (12, 13), (12, 14), (12, 15), (12, 17), (13, 14), (13, 45), (14, 15), (14, 45), (15, 16), (15, 35), (15, 45), (16, 17), (16, 35), (17, 18), (17, 34), (17, 35), (17, 36), (18, 19), (18, 34), (19, 20), (19, 21), (19, 22), (19, 32), (19, 33), (19, 34), (20, 21), (21, 22), (22, 23), (22, 24), (22, 25), (22, 28), (22, 29), (22, 31), (22, 32), (24, 25), (24, 26), (24, 39), (24, 40), (24, 41), (25, 26), (25, 27), (25, 28), (26, 27), (26, 30), (26, 39), (27, 28), (27, 30), (28, 29), (28, 30), (29, 30), (29, 31), (30, 31), (30, 33), (30, 38), (30, 39), (31, 32), (31, 33), (32, 33), (33, 34), (33, 36), (33, 38), (34, 36), (35, 36), (35, 45), (36, 37), (36, 38), (36, 45), (37, 38), (38, 39), (39, 41), (40, 41), (41, 42), (41, 43), (41, 44), (42, 43), (42, 44), (42, 45), (43, 44), (44, 45)], 'coordinates': [(18, 147), (48, 83), (64, 90), (47, 28), (63, 34), (78, 55), (82, 74), (84, 80), (82, 69), (100, 78), (94, 97), (110, 162), (116, 144), (143, 149), (140, 111), (137, 102), (136, 95), (122, 78), (110, 67), (112, 60), (98, 59), (93, 55), (102, 35), (108, 14), (130, 22), (125, 32), (128, 37), (127, 40), (122, 42), (118, 47), (127, 48), (116, 53), (111, 54), (122, 57), (124, 65), (146, 87), (158, 65), (148, 57), (138, 54), (137, 41), (160, 13), (168, 29), (189, 39), (194, 32), (202, 33), (191, 118)]}\n"
     ]
    }
   ],
   "source": [
    "europe_graph = {\n",
    "    \"nodes\":  [\"Iceland\", \"Ireland\", \"United Kingdom\", \"Portugal\", \"Spain\",\n",
    "                 \"France\", \"Belgium\", \"Netherlands\", \"Luxembourg\", \"Germany\",\n",
    "                 \"Denmark\", \"Norway\", \"Sweden\", \"Finland\", \"Estonia\",\n",
    "                 \"Latvia\", \"Lithuania\", \"Poland\", \"Czech Republic\", \"Austria\",\n",
    "                 \"Liechtenstein\", \"Switzerland\", \"Italy\", \"Malta\", \"Greece\",\n",
    "                 \"Albania\", \"Macedonia\", \"Kosovo\", \"Montenegro\", \"Bosnia Herzegovina\",\n",
    "                 \"Serbia\", \"Croatia\", \"Slovenia\", \"Hungary\", \"Slovakia\",\n",
    "                 \"Belarus\", \"Ukraine\", \"Moldova\", \"Romania\", \"Bulgaria\",\n",
    "                 \"Cyprus\", \"Turkey\", \"Georgia\", \"Armenia\", \"Azerbaijan\",\n",
    "                 \"Russia\" ], \n",
    "    \"edges\": [(0,1), (0,2), (1,2), (2,5), (2,6), (2,7), (2,11), (3,4),\n",
    "                 (4,5), (4,22), (5,6), (5,8), (5,9), (5,21), (5,22),(6,7),\n",
    "                 (6,8), (6,9), (7,9), (8,9), (9,10), (9,12), (9,17), (9,18),\n",
    "                 (9,19), (9,21), (10,11), (10,12), (10,17), (11,12), (11,13), (11,45), \n",
    "                 (12,13), (12,14), (12,15), (12,17), (13,14), (13,45), (14,15),\n",
    "                 (14,45), (15,16), (15,35), (15,45), (16,17), (16,35), (17,18),\n",
    "                 (17,34), (17,35), (17,36), (18,19), (18,34), (19,20), (19,21), \n",
    "                 (19,22), (19,32), (19,33), (19,34), (20,21), (21,22), (22,23),\n",
    "                 (22,24), (22,25), (22,28), (22,29), (22,31), (22,32), (24,25),\n",
    "                 (24,26), (24,39), (24,40), (24,41), (25,26), (25,27), (25,28),\n",
    "                 (26,27), (26,30), (26,39), (27,28), (27,30), (28,29), (28,30),\n",
    "                 (29,30), (29,31), (30,31), (30,33), (30,38), (30,39), (31,32),\n",
    "                 (31,33), (32,33), (33,34), (33,36), (33,38), (34,36), (35,36),\n",
    "                 (35,45), (36,37), (36,38), (36,45), (37,38), (38,39), (39,41),\n",
    "                 (40,41), (41,42), (41,43), (41,44), (42,43), (42,44), (42,45),\n",
    "                 (43,44), (44,45)],\n",
    "    \"coordinates\": [( 18,147), ( 48, 83), ( 64, 90), ( 47, 28), ( 63, 34),\n",
    "                   ( 78, 55), ( 82, 74), ( 84, 80), ( 82, 69), (100, 78),\n",
    "                   ( 94, 97), (110,162), (116,144), (143,149), (140,111),\n",
    "                   (137,102), (136, 95), (122, 78), (110, 67), (112, 60),\n",
    "                   ( 98, 59), ( 93, 55), (102, 35), (108, 14), (130, 22),\n",
    "                   (125, 32), (128, 37), (127, 40), (122, 42), (118, 47),\n",
    "                   (127, 48), (116, 53), (111, 54), (122, 57), (124, 65),\n",
    "                   (146, 87), (158, 65), (148, 57), (138, 54), (137, 41),\n",
    "                   (160, 13), (168, 29), (189, 39), (194, 32), (202, 33),\n",
    "                   (191,118)]}\n",
    "print(europe_graph)"
   ]
  },
  {
   "cell_type": "code",
   "execution_count": 469,
   "metadata": {},
   "outputs": [
    {
     "name": "stdout",
     "output_type": "stream",
     "text": [
      "[(0, 'red'), (1, 'blue'), (2, 'green'), (3, 'red'), (4, 'blue'), (5, 'red'), (6, 'blue'), (7, 'red'), (8, 'green'), (9, 'yellow'), (10, 'green'), (11, 'red'), (12, 'blue'), (13, 'green'), (14, 'red'), (15, 'green'), (16, 'blue'), (17, 'red'), (18, 'blue'), (19, 'red'), (20, 'green'), (21, 'blue'), (22, 'green'), (23, 'red'), (24, 'yellow'), (25, 'blue'), (26, 'red'), (27, 'green'), (28, 'red'), (29, 'blue'), (30, 'yellow'), (31, 'red'), (32, 'yellow'), (33, 'blue'), (34, 'yellow'), (35, 'yellow'), (36, 'green'), (37, 'blue'), (38, 'red'), (39, 'blue'), (40, 'blue'), (41, 'red'), (42, 'green'), (43, 'blue'), (44, 'yellow'), (45, 'blue')]\n"
     ]
    }
   ],
   "source": [
    "europe_solution = color_map(europe_graph, [\"red\", \"blue\", \"green\", \"yellow\"], trace=False)"
   ]
  },
  {
   "cell_type": "markdown",
   "metadata": {},
   "source": [
    "## Test Europe Solution"
   ]
  },
  {
   "cell_type": "code",
   "execution_count": 470,
   "metadata": {},
   "outputs": [],
   "source": [
    "if europe_solution:\n",
    "    test_coloring(europe_graph, europe_solution)"
   ]
  },
  {
   "cell_type": "markdown",
   "metadata": {},
   "source": [
    "## Draw Europe Cartoon"
   ]
  },
  {
   "cell_type": "code",
   "execution_count": 471,
   "metadata": {
    "scrolled": true
   },
   "outputs": [
    {
     "data": {
      "image/png": "[encoded data removed]",
      "text/plain": [
       "<Figure size 500x400 with 1 Axes>"
      ]
     },
     "metadata": {},
     "output_type": "display_data"
    }
   ],
   "source": [
    "if europe_solution:\n",
    "    draw_map(\"Europe\", europe_graph, (5,4), europe_solution)"
   ]
  },
  {
   "cell_type": "markdown",
   "metadata": {},
   "source": [
    "## Problem 4. Color Europe with Three Colors"
   ]
  },
  {
   "cell_type": "code",
   "execution_count": 472,
   "metadata": {},
   "outputs": [
    {
     "name": "stdout",
     "output_type": "stream",
     "text": [
      "None\n"
     ]
    }
   ],
   "source": [
    "europe_solution = color_map(europe_graph, [\"red\", \"blue\", \"green\"], trace=False)"
   ]
  },
  {
   "cell_type": "markdown",
   "metadata": {},
   "source": [
    "## Test Europe Solution"
   ]
  },
  {
   "cell_type": "code",
   "execution_count": 473,
   "metadata": {},
   "outputs": [],
   "source": [
    "if europe_solution:\n",
    "    test_coloring(europe_graph, europe_solution)"
   ]
  },
  {
   "cell_type": "markdown",
   "metadata": {},
   "source": [
    "## Draw Europe Cartoon"
   ]
  },
  {
   "cell_type": "code",
   "execution_count": 474,
   "metadata": {
    "scrolled": true
   },
   "outputs": [],
   "source": [
    "if europe_solution:\n",
    "    draw_map(\"Europe\", europe_graph, (5,4), europe_solution)"
   ]
  },
  {
   "cell_type": "markdown",
   "metadata": {},
   "source": [
    "## Part 2: Genetic Algorithms\n",
    "Genetic algorithms can approximate the same constraint satisfaction solutions that we programmed algorithmically. We have provided some code to help you get started."
   ]
  },
  {
   "cell_type": "markdown",
   "metadata": {},
   "source": [
    "Color Europe from using four colors: [\"red\", \"blue\", \"green\", \"yellow\"]. \n",
    "\n",
    "Your implementation should:\n",
    "\n",
    "* Start with a random population of candidates\n",
    "* Run for a defined number of generations\n",
    "* Select parents (implement tournament)\n",
    "* Apply Crossover\n",
    "* Apply Mutation\n",
    "* Apply Culling (remove a fraction of the lowest fitness individuals from the new population)\n",
    "\n",
    "You'll need encoders/decoders to switch between genomes and phenomes. \n",
    "\n",
    "You'll need an approproate fitness function. \n",
    "\n",
    "You'll need a suite of tunable parameters (number of generations, crossover rate, location, mutation rate, location, value, culling rate, and so on).\n",
    "\n",
    "Every ten generations, print out the generation number, the fitness, genotype, and phenotype of the best individual in the population for the specific generation. Return the best individual of the entire run (in the same format).\n",
    "\n",
    "Feel free to port over helper functions from your solution from Part #1"
   ]
  },
  {
   "cell_type": "code",
   "execution_count": 475,
   "metadata": {},
   "outputs": [],
   "source": [
    "def initialize_population(constraint_graph, color_list, population_size):\n",
    "    \"\"\"\n",
    "    Initialize a graph with Node objects based on contraint graph structure\n",
    "\n",
    "    Args:\n",
    "        constraint_graph (Dict[nodes: string[], edges: Tuple[int, int], coordinates: Tuple[int, int]]):\n",
    "        dictionary representing nodes, edges, and node coordinates for a graph\n",
    "        color_list (string[]): list of valid color options\n",
    "\n",
    "    Returns:\n",
    "        Node[][] - randomly generated population representing constraint graphs\n",
    "    \"\"\"\n",
    "    population = []\n",
    "    for i in range(population_size):\n",
    "        graph = init_graph(constraint_graph)\n",
    "        for node in graph:\n",
    "            node.color = random.choice(color_list)\n",
    "\n",
    "        population.append(graph)\n",
    "    \n",
    "    return population"
   ]
  },
  {
   "cell_type": "code",
   "execution_count": 476,
   "metadata": {},
   "outputs": [],
   "source": [
    "def fitness(graph):\n",
    "    \"\"\"\n",
    "    Compute the fitness of a given graph\n",
    "\n",
    "    Args:\n",
    "        graph (Node[]): list of nodes representing constraint graph\n",
    "\n",
    "    Returns:\n",
    "        int - computed fitness score\n",
    "    \"\"\"\n",
    "    fitnessScore = 0\n",
    "    for node in graph:\n",
    "        for adjacent in node.adjacent:\n",
    "            if graph[adjacent].color != node.color:\n",
    "                fitnessScore += 1\n",
    "            else:\n",
    "                fitnessScore -= 1\n",
    "\n",
    "    return fitnessScore"
   ]
  },
  {
   "cell_type": "code",
   "execution_count": 477,
   "metadata": {},
   "outputs": [],
   "source": [
    "def tournament_selection(): # TODO Add parameters\n",
    "    \"\"\"\n",
    "    Selects the best individual from a subset of the population using a tournament-style selection \n",
    "    process. This helps maintain a balance between exploration and exploitation by favoring individuals \n",
    "    with higher fitness while still allowing for some randomness.\n",
    "    Add docstring here\n",
    "    \"\"\"\n",
    "    # Your code here\n",
    "    # randomly shuffle individuals\n",
    "    # for pair in pairs\n",
    "        # compute winner by fitness\n",
    "        # winners go to next round of the tournament\n",
    "    pass"
   ]
  },
  {
   "cell_type": "code",
   "execution_count": 478,
   "metadata": {},
   "outputs": [],
   "source": [
    "def crossover(graph1, graph2, threshold): # TODO Add parameters\n",
    "    \"\"\"\n",
    "    Performs crossover (recombination) between two parent individuals to produce a child. \n",
    "    The crossover is applied with a probability determined by crossover_rate, where a \n",
    "    higher rate means a higher chance of crossover occurring.\n",
    "    Add docstring here\n",
    "    \"\"\"\n",
    "    # TODO docstring\n",
    "    # TODO: what type of crossover should this be?\n",
    "\n",
    "    rand = random.random()\n",
    "    if rand > threshold:\n",
    "        # crossover randomly swapping nodes\n",
    "        for i in range(len(graph1)):\n",
    "            if random.random() < 0.5:\n",
    "                temp = graph1[i]\n",
    "                graph1[i] = graph2[i]\n",
    "                graph2[i] = temp\n",
    "\n",
    "        return True\n",
    "    \n",
    "    return False"
   ]
  },
  {
   "cell_type": "code",
   "execution_count": 479,
   "metadata": {},
   "outputs": [],
   "source": [
    "def mutate(graph, color_list, threshold): # TODO Add parameters\n",
    "    \"\"\"\n",
    "    Mutates an individual by randomly changing the color of one of its nodes, based on \n",
    "    a given mutation rate. The mutation ensures that the new color is different from the current one.\n",
    "    Add docstring here\n",
    "    \"\"\"\n",
    "    # TODO docstring\n",
    "    rand = random.random()\n",
    "    if rand > threshold:\n",
    "        # mutate color ensuring difference\n",
    "        node = random.choice(graph)\n",
    "        color_options = [c for c in color_list if c != node.color]\n",
    "        node.color = random.choice(color_options)\n",
    "\n",
    "        return True\n",
    "    \n",
    "    return False"
   ]
  },
  {
   "cell_type": "code",
   "execution_count": 480,
   "metadata": {},
   "outputs": [],
   "source": [
    "def cull_population(population, proportion): # TODO Add parameters\n",
    "    \"\"\"\n",
    "    Reduces the population size by selecting the best individuals based on their fitness scores. \n",
    "    The individuals with the lowest fitness are culled, and only a specified proportion of the population is retained.\n",
    "    Add docstring here\n",
    "    \"\"\"\n",
    "    # TODO docstring\n",
    "    # Your code here\n",
    "    # calculate fitness for entire population\n",
    "    # take top x percent based on given proportion\n",
    "    fitnessScores = []\n",
    "    for i in range(len(population)):\n",
    "        score = fitness(population[i])\n",
    "        fitnessScores.append((score, i))\n",
    "\n",
    "    fitnessScores.sort(reverse=True)\n",
    "    nIndividuals = int(len(population) * proportion)\n",
    "    return [population[fitnessScores[i][1]] for i in range(nIndividuals)]\n"
   ]
  },
  {
   "cell_type": "code",
   "execution_count": 481,
   "metadata": {},
   "outputs": [],
   "source": [
    "def report_fitness(generation, best_fitness, best_individual, color_list, constraint_graph):\n",
    "    \"\"\"\n",
    "    Reports the fitness of the best individual in the current generation.\n",
    "\n",
    "    * **generation** int: The current generation number.\n",
    "    * **best_fitness** float: The fitness score of the best individual.\n",
    "    * **best_individual** list: The genotype of the best individual, represented as a list of color indices.\n",
    "    * **color_list** list: A list of available colors. Each color is represented as a string (e.g., \"red\", \"blue\").\n",
    "    * **constraint_graph** dict: A dictionary representing the constraint graph, including nodes and their neighbors (edges).\n",
    "    \"\"\"\n",
    "    print(f\"Generation {generation}: Best Fitness {best_fitness}, \"\n",
    "            f\"Genotype {best_individual}, \"\n",
    "            f\"Phenotype {[color_list[gene] for gene in best_individual]}\")\n",
    "    \n",
    "    solution = [(constraint_graph[\"nodes\"][i], color_list[best_individual[i]]) for i in range(len(best_individual))]\n",
    "    draw_map(f\"Generation {generation}\", constraint_graph, size=(10, 8), solution=solution)"
   ]
  },
  {
   "cell_type": "code",
   "execution_count": 482,
   "metadata": {},
   "outputs": [],
   "source": [
    "def genetic_algorithm(color_list, constraint_graph, hyperparameters, trace=False):\n",
    "    \"\"\"\n",
    "    Executes a genetic algorithm to solve a graph coloring problem by evolving a population of individuals over multiple generations. Each individual represents a potential solution, where nodes of the graph are assigned colors. The goal is to minimize conflicts between neighboring nodes sharing the same color.\n",
    "\n",
    "    * **color_list** list: A list of available colors. Each color is represented as a string (e.g., \"red\", \"blue\").\n",
    "    * **constraint_graph** dict: A dictionary representing the constraint graph, including nodes and their neighbors (edges).\n",
    "    * **hyperparameters** dict: A dictionary containing hyperparameters for the genetic algorithm.\n",
    "    * **trace** bool: If True, prints detailed information about the evolution process.\n",
    "\n",
    "    **returns** list: The best individual found after NUM_GENERATIONS generations, represented as a list of color indices corresponding to each node in the graph. Additionally, the algorithm prints the best fitness, genotype, and phenotype at various points during the execution.\n",
    "    \"\"\"\n",
    "    population = initialize_population(constraint_graph, color_list) # TODO initialize_population \n",
    "    # neighbor_set = ... # TODO create neighbor set from constraint_graph\n",
    "    best_individual = None\n",
    "    best_fitness = float('-inf')\n",
    "\n",
    "    for generation in range(hyperparameters[\"NUM_GENERATIONS\"]):\n",
    "        # TODO Evaluate fitness of the population\n",
    "        fitnessScores = [fitness(graph) for graph in population]\n",
    "\n",
    "        # Report the best individual and fitness found so far\n",
    "        if trace and generation % 10 == 0:\n",
    "            report_fitness(generation, best_fitness, best_individual, color_list, constraint_graph)\n",
    "\n",
    "        # TODO Create new population through selection, crossover, mutation, and culling\n",
    "\n",
    "    # Final report of the best solution found\n",
    "    if trace:\n",
    "        print(\"Final report:\")\n",
    "        report_fitness(hyperparameters[\"NUM_GENERATIONS\"], best_fitness, best_individual, color_list, constraint_graph)\n",
    "    \n",
    "    return best_individual, best_fitness\n"
   ]
  },
  {
   "cell_type": "code",
   "execution_count": 483,
   "metadata": {},
   "outputs": [],
   "source": [
    "def color_map_genetic(constraint_graph, color_list, hyperparameters, trace=False):\n",
    "    \"\"\"\n",
    "    Executes a genetic algorithm to solve a graph coloring problem by evolving a population of individuals over multiple generations. Each individual represents a potential solution, where nodes of the graph are assigned colors. The goal is to minimize conflicts between neighboring nodes sharing the same color.\n",
    "\n",
    "    * **constraint_graph** dict: A dictionary representing the constraint graph, including nodes and their neighbors (edges).\n",
    "    * **color_list** list: A list of available colors. Each color is represented as a string (e.g., \"red\", \"blue\").\n",
    "    * **hyperparameters** dict: A dictionary containing hyperparameters for the genetic algorithm.\n",
    "    * **trace** bool: If True, prints detailed information about the evolution process.\n",
    "\n",
    "    **returns** list: The best individual found after NUM_GENERATIONS generations, represented as a list of color indices corresponding to each node in the graph.\n",
    "    \"\"\"\n",
    "    best_individual, best_fitness = genetic_algorithm(color_list, constraint_graph, hyperparameters, trace)\n",
    "    if ...: # TODO Check if best_fitness indicates a valid solution\n",
    "        return [(constraint_graph[\"nodes\"][i], color_list[best_individual[i]]) for i in range(len(best_individual))]\n",
    "    else:\n",
    "        print(\"No valid solution found.\")\n",
    "        return None"
   ]
  },
  {
   "cell_type": "markdown",
   "metadata": {},
   "source": [
    "#### Hyperparameters:\n",
    "- **NUM_GENERATIONS** int: The number of generations for the genetic algorithm to evolve through. The higher this number, the longer the algorithm runs.\n",
    "- **POPULATION_SIZE** int: The size of the population at each generation. A larger population can explore the solution space more thoroughly but increases computational cost.\n",
    "- **CROSSOVER_RATE** float: The probability that two selected parents will undergo crossover. A higher rate means more offspring will be produced by recombination.\n",
    "- **MUTATION_RATE** float: The probability that a mutation will occur in a given individual. This introduces genetic diversity and helps avoid local optima.\n",
    "- **CULLING_RATE** float: The proportion of the population that will be culled (removed) at the end of each generation. A higher culling rate means only the fittest individuals are retained.\n",
    "- **TOURNAMENT_SIZE** int: The number of individuals selected for tournament selection. Larger values give stronger individuals a higher chance of being selected."
   ]
  },
  {
   "cell_type": "code",
   "execution_count": 484,
   "metadata": {},
   "outputs": [],
   "source": [
    "# TODO: Define the parameters for the genetic algorithm\n",
    "num_generations: int   = ...\n",
    "population_size: int   = ...\n",
    "crossover_rate : float = ...\n",
    "mutation_rate  : float = ...\n",
    "culling_rate   : float = ...\n",
    "tournament_size: int   = ...\n",
    "\n",
    "hyperparameters = {\n",
    "    \"NUM_GENERATIONS\": num_generations,\n",
    "    \"POPULATION_SIZE\": population_size,\n",
    "    \"CROSSOVER_RATE\": crossover_rate,\n",
    "    \"MUTATION_RATE\": mutation_rate,\n",
    "    \"CULLING_RATE\": culling_rate,\n",
    "    \"TOURNAMENT_SIZE\": tournament_size\n",
    "}"
   ]
  },
  {
   "cell_type": "code",
   "execution_count": 485,
   "metadata": {},
   "outputs": [
    {
     "ename": "TypeError",
     "evalue": "initialize_population() missing 1 required positional argument: 'population_size'",
     "output_type": "error",
     "traceback": [
      "\u001b[31m---------------------------------------------------------------------------\u001b[39m",
      "\u001b[31mTypeError\u001b[39m                                 Traceback (most recent call last)",
      "\u001b[36mCell\u001b[39m\u001b[36m \u001b[39m\u001b[32mIn[485]\u001b[39m\u001b[32m, line 1\u001b[39m\n\u001b[32m----> \u001b[39m\u001b[32m1\u001b[39m europe_solution = \u001b[43mcolor_map_genetic\u001b[49m\u001b[43m(\u001b[49m\u001b[43meurope_graph\u001b[49m\u001b[43m,\u001b[49m\u001b[43m \u001b[49m\u001b[43m[\u001b[49m\u001b[33;43m\"\u001b[39;49m\u001b[33;43mred\u001b[39;49m\u001b[33;43m\"\u001b[39;49m\u001b[43m,\u001b[49m\u001b[43m \u001b[49m\u001b[33;43m\"\u001b[39;49m\u001b[33;43mblue\u001b[39;49m\u001b[33;43m\"\u001b[39;49m\u001b[43m,\u001b[49m\u001b[43m \u001b[49m\u001b[33;43m\"\u001b[39;49m\u001b[33;43mgreen\u001b[39;49m\u001b[33;43m\"\u001b[39;49m\u001b[43m,\u001b[49m\u001b[43m \u001b[49m\u001b[33;43m\"\u001b[39;49m\u001b[33;43myellow\u001b[39;49m\u001b[33;43m\"\u001b[39;49m\u001b[43m]\u001b[49m\u001b[43m,\u001b[49m\u001b[43m \u001b[49m\u001b[43mhyperparameters\u001b[49m\u001b[43m,\u001b[49m\u001b[43m \u001b[49m\u001b[43mtrace\u001b[49m\u001b[43m=\u001b[49m\u001b[38;5;28;43;01mTrue\u001b[39;49;00m\u001b[43m)\u001b[49m \u001b[38;5;66;03m# Feel free to add parameters\u001b[39;00m\n",
      "\u001b[36mCell\u001b[39m\u001b[36m \u001b[39m\u001b[32mIn[483]\u001b[39m\u001b[32m, line 12\u001b[39m, in \u001b[36mcolor_map_genetic\u001b[39m\u001b[34m(constraint_graph, color_list, hyperparameters, trace)\u001b[39m\n\u001b[32m      1\u001b[39m \u001b[38;5;28;01mdef\u001b[39;00m\u001b[38;5;250m \u001b[39m\u001b[34mcolor_map_genetic\u001b[39m(constraint_graph, color_list, hyperparameters, trace=\u001b[38;5;28;01mFalse\u001b[39;00m):\n\u001b[32m      2\u001b[39m \u001b[38;5;250m    \u001b[39m\u001b[33;03m\"\"\"\u001b[39;00m\n\u001b[32m      3\u001b[39m \u001b[33;03m    Executes a genetic algorithm to solve a graph coloring problem by evolving a population of individuals over multiple generations. Each individual represents a potential solution, where nodes of the graph are assigned colors. The goal is to minimize conflicts between neighboring nodes sharing the same color.\u001b[39;00m\n\u001b[32m      4\u001b[39m \n\u001b[32m   (...)\u001b[39m\u001b[32m     10\u001b[39m \u001b[33;03m    **returns** list: The best individual found after NUM_GENERATIONS generations, represented as a list of color indices corresponding to each node in the graph.\u001b[39;00m\n\u001b[32m     11\u001b[39m \u001b[33;03m    \"\"\"\u001b[39;00m\n\u001b[32m---> \u001b[39m\u001b[32m12\u001b[39m     best_individual, best_fitness = \u001b[43mgenetic_algorithm\u001b[49m\u001b[43m(\u001b[49m\u001b[43mcolor_list\u001b[49m\u001b[43m,\u001b[49m\u001b[43m \u001b[49m\u001b[43mconstraint_graph\u001b[49m\u001b[43m,\u001b[49m\u001b[43m \u001b[49m\u001b[43mhyperparameters\u001b[49m\u001b[43m,\u001b[49m\u001b[43m \u001b[49m\u001b[43mtrace\u001b[49m\u001b[43m)\u001b[49m\n\u001b[32m     13\u001b[39m     \u001b[38;5;28;01mif\u001b[39;00m ...: \u001b[38;5;66;03m# TODO Check if best_fitness indicates a valid solution\u001b[39;00m\n\u001b[32m     14\u001b[39m         \u001b[38;5;28;01mreturn\u001b[39;00m [(constraint_graph[\u001b[33m\"\u001b[39m\u001b[33mnodes\u001b[39m\u001b[33m\"\u001b[39m][i], color_list[best_individual[i]]) \u001b[38;5;28;01mfor\u001b[39;00m i \u001b[38;5;129;01min\u001b[39;00m \u001b[38;5;28mrange\u001b[39m(\u001b[38;5;28mlen\u001b[39m(best_individual))]\n",
      "\u001b[36mCell\u001b[39m\u001b[36m \u001b[39m\u001b[32mIn[482]\u001b[39m\u001b[32m, line 12\u001b[39m, in \u001b[36mgenetic_algorithm\u001b[39m\u001b[34m(color_list, constraint_graph, hyperparameters, trace)\u001b[39m\n\u001b[32m      1\u001b[39m \u001b[38;5;28;01mdef\u001b[39;00m\u001b[38;5;250m \u001b[39m\u001b[34mgenetic_algorithm\u001b[39m(color_list, constraint_graph, hyperparameters, trace=\u001b[38;5;28;01mFalse\u001b[39;00m):\n\u001b[32m      2\u001b[39m \u001b[38;5;250m    \u001b[39m\u001b[33;03m\"\"\"\u001b[39;00m\n\u001b[32m      3\u001b[39m \u001b[33;03m    Executes a genetic algorithm to solve a graph coloring problem by evolving a population of individuals over multiple generations. Each individual represents a potential solution, where nodes of the graph are assigned colors. The goal is to minimize conflicts between neighboring nodes sharing the same color.\u001b[39;00m\n\u001b[32m      4\u001b[39m \n\u001b[32m   (...)\u001b[39m\u001b[32m     10\u001b[39m \u001b[33;03m    **returns** list: The best individual found after NUM_GENERATIONS generations, represented as a list of color indices corresponding to each node in the graph. Additionally, the algorithm prints the best fitness, genotype, and phenotype at various points during the execution.\u001b[39;00m\n\u001b[32m     11\u001b[39m \u001b[33;03m    \"\"\"\u001b[39;00m\n\u001b[32m---> \u001b[39m\u001b[32m12\u001b[39m     population = \u001b[43minitialize_population\u001b[49m\u001b[43m(\u001b[49m\u001b[43mconstraint_graph\u001b[49m\u001b[43m,\u001b[49m\u001b[43m \u001b[49m\u001b[43mcolor_list\u001b[49m\u001b[43m)\u001b[49m \u001b[38;5;66;03m# TODO initialize_population \u001b[39;00m\n\u001b[32m     13\u001b[39m     \u001b[38;5;66;03m# neighbor_set = ... # TODO create neighbor set from constraint_graph\u001b[39;00m\n\u001b[32m     14\u001b[39m     best_individual = \u001b[38;5;28;01mNone\u001b[39;00m\n",
      "\u001b[31mTypeError\u001b[39m: initialize_population() missing 1 required positional argument: 'population_size'"
     ]
    }
   ],
   "source": [
    "europe_solution = color_map_genetic(europe_graph, [\"red\", \"blue\", \"green\", \"yellow\"], hyperparameters, trace=True) # Feel free to add parameters"
   ]
  },
  {
   "cell_type": "code",
   "execution_count": null,
   "metadata": {},
   "outputs": [],
   "source": [
    "if europe_solution:\n",
    "    test_coloring(europe_graph, europe_solution)"
   ]
  },
  {
   "cell_type": "code",
   "execution_count": null,
   "metadata": {},
   "outputs": [],
   "source": [
    "if europe_solution:\n",
    "    draw_map(\"Europe\", europe_graph, (10, 8), europe_solution)"
   ]
  },
  {
   "cell_type": "markdown",
   "metadata": {},
   "source": [
    "## Before You Submit...\n",
    "\n",
    "00. Re-read the general instructions provided above, and\n",
    "01. Hit \"Kernel\"->\"Restart & Run All\". The first cell that is run should show [1], the second should show [2], and so on...\n",
    "02. Submit your notebook (as .ipynb, not PDF) using Gradescope, and\n",
    "03.  Do not submit any other files."
   ]
  }
 ],
 "metadata": {
  "kernelspec": {
   "display_name": ".venv",
   "language": "python",
   "name": "python3"
  },
  "language_info": {
   "codemirror_mode": {
    "name": "ipython",
    "version": 3
   },
   "file_extension": ".py",
   "mimetype": "text/x-python",
   "name": "python",
   "nbconvert_exporter": "python",
   "pygments_lexer": "ipython3",
   "version": "3.14.0"
  },
  "toc": {
   "colors": {
    "hover_highlight": "#DAA520",
    "navigate_num": "#000000",
    "navigate_text": "#333333",
    "running_highlight": "#FF0000",
    "selected_highlight": "#FFD700",
    "sidebar_border": "#EEEEEE",
    "wrapper_background": "#FFFFFF"
   },
   "moveMenuLeft": true,
   "nav_menu": {
    "height": "135px",
    "width": "252px"
   },
   "navigate_menu": true,
   "number_sections": true,
   "sideBar": true,
   "threshold": 4,
   "toc_cell": false,
   "toc_section_display": "block",
   "toc_window_display": false,
   "widenNotebook": false
  }
 },
 "nbformat": 4,
 "nbformat_minor": 4
}
