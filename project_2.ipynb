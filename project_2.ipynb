{
 "cells": [
  {
   "cell_type": "markdown",
   "metadata": {},
   "source": [
    "# Artificial Intelligence\n",
    "# 464\n",
    "# Project #2\n",
    "\n",
    "## Before You Begin...\n",
    "00. We're using a Jupyter Notebook environment (tutorial available here: https://jupyter-notebook-beginner-guide.readthedocs.io/en/latest/what_is_jupyter.html),\n",
    "01. Read the entire notebook before beginning your work, and\n",
    "02.  Check the submission deadline on Gradescope.\n",
    "\n",
    "\n",
    "## General Directions for this Assignment\n",
    "00. Output format should be exactly as requested,\n",
    "01. Functions should do only one thing,\n",
    "02. Keep functions to 20 lines or less (empty lines are fine, there's leeway, but don't blatantly ignore this),\n",
    "03. Add docstring to all functions,\n",
    "04. Each helper function you create, except max_value and min_value, should be followed by a unit test with at least three test conditions (if your helper doesn't return anything, just provide enough evidence with a test that shows that it works), and\n",
    "\n",
    "\n",
    "## Before You Submit...\n",
    "00. Re-read the general instructions provided above, and\n",
    "01. Hit \"Kernel\"->\"Restart & Run All\". The first cell that is run should show [1], the second should show [2], and so on...\n",
    "02. Submit your notebook (as .ipynb, not PDF) using Gradescope, and\n",
    "03.  Do not submit any other files."
   ]
  },
  {
   "cell_type": "markdown",
   "metadata": {},
   "source": [
    "## The World\n",
    "\n",
    "A `List of Lists` is used to represent the world. Cells marked as '⬛' are obstacles in the world and are not traversable."
   ]
  },
  {
   "cell_type": "code",
   "execution_count": 1,
   "metadata": {},
   "outputs": [],
   "source": [
    "def create_grid_world():\n",
    "    \"\"\"\n",
    "    Creates a 2D world represented as a list of lists\n",
    "\n",
    "    ...\n",
    "    \n",
    "    \"\"\"\n",
    "    return [['⬜','⬜','⬜','⬜','⬜','⬜','⬜','⬜','⬜','⬜','⬜','⬜','⬜','⬜','⬜','⬜','⬜','⬜','⬜','⬜','⬜'],\n",
    "            ['⬜','⬜','⬜','⬜','⬜','⬜','⬜','⬜','⬜','⬜','⬜','⬜','⬜','⬜','⬜','⬜','⬜','⬜','⬜','⬜','⬜'],\n",
    "            ['⬜','⬜','⬜','⬜','⬜','⬜','⬜','⬜','⬜','⬜','⬜','⬜','⬜','⬜','⬜','⬜','⬜','⬜','⬜','⬜','⬜'],\n",
    "            ['⬜','⬜','⬜','⬜','⬜','⬜','⬜','⬜','⬜','⬜','⬜','⬜','⬜','⬜','⬜','⬜','⬜','⬜','⬜','⬜','⬜'],\n",
    "            ['⬜','⬜','⬜','⬜','⬜','⬜','⬜','⬜','⬜','⬜','⬜','⬜','⬜','⬜','⬜','⬜','⬜','⬜','⬜','⬜','⬜'],\n",
    "            ['⬜','⬜','⬜','⬜','⬜','⬜','⬜','⬜','⬜','⬜','⬜','⬜','⬜','⬜','⬜','⬜','⬜','⬜','⬜','⬜','⬜'],\n",
    "            ['⬜','⬜','⬜','⬜','⬜','⬜','⬜','⬜','⬜','⬜','⬜','⬜','⬜','⬜','⬜','⬜','⬜','⬜','⬜','⬜','⬜'],\n",
    "            ['⬜','⬜','⬜','⬜','⬜','⬜','⬜','⬜','⬜','⬜','⬜','⬜','⬜','⬜','⬜','⬜','⬜','⬜','⬜','⬜','⬜'],\n",
    "            ['⬜','⬜','⬜','⬜','⬜','⬜','⬜','⬜','⬜','⬜','⬜','⬜','⬜','⬜','⬜','⬜','⬜','⬜','⬜','⬜','⬜'],\n",
    "            ['⬜','⬜','⬜','⬜','⬜','⬜','⬜','⬜','⬜','⬛','⬛','⬛','⬜','⬜','⬜','⬜','⬜','⬜','⬜','⬜','⬜'],\n",
    "            ['⬜','⬜','⬜','⬜','⬜','⬜','⬜','⬜','⬜','⬛','⬛','⬛','⬜','⬜','⬜','⬜','⬜','⬜','⬜','⬜','⬜'],\n",
    "            ['⬜','⬜','⬜','⬜','⬜','⬜','⬜','⬜','⬜','⬛','⬛','⬛','⬜','⬜','⬜','⬜','⬜','⬜','⬜','⬜','⬜'],\n",
    "            ['⬜','⬜','⬜','⬜','⬜','⬜','⬜','⬜','⬜','⬜','⬜','⬜','⬜','⬜','⬜','⬜','⬜','⬜','⬜','⬜','⬜'],\n",
    "            ['⬜','⬜','⬜','⬜','⬜','⬜','⬜','⬜','⬜','⬜','⬜','⬜','⬜','⬜','⬜','⬜','⬜','⬜','⬜','⬜','⬜'],\n",
    "            ['⬜','⬜','⬜','⬜','⬜','⬜','⬜','⬜','⬜','⬜','⬜','⬜','⬜','⬜','⬜','⬜','⬜','⬜','⬜','⬜','⬜'],\n",
    "            ['⬜','⬜','⬜','⬜','⬜','⬜','⬜','⬜','⬜','⬜','⬜','⬜','⬜','⬜','⬜','⬜','⬜','⬜','⬜','⬜','⬜'],\n",
    "            ['⬜','⬜','⬜','⬜','⬜','⬜','⬜','⬜','⬜','⬜','⬜','⬜','⬜','⬜','⬜','⬜','⬜','⬜','⬜','⬜','⬜'],\n",
    "            ['⬜','⬜','⬜','⬜','⬜','⬜','⬜','⬜','⬜','⬜','⬜','⬜','⬜','⬜','⬜','⬜','⬜','⬜','⬜','⬜','⬜'],\n",
    "            ['⬜','⬜','⬜','⬜','⬜','⬜','⬜','⬜','⬜','⬜','⬜','⬜','⬜','⬜','⬜','⬜','⬜','⬜','⬜','⬜','⬜'],\n",
    "            ['⬜','⬜','⬜','⬜','⬜','⬜','⬜','⬜','⬜','⬜','⬜','⬜','⬜','⬜','⬜','⬜','⬜','⬜','⬜','⬜','⬜'],\n",
    "            ['⬜','⬜','⬜','⬜','⬜','⬜','⬜','⬜','⬜','⬜','⬜','⬜','⬜','⬜','⬜','⬜','⬜','⬜','⬜','⬜','⬜']]"
   ]
  },
  {
   "cell_type": "code",
   "execution_count": 2,
   "metadata": {},
   "outputs": [],
   "source": [
    "world = create_grid_world()"
   ]
  },
  {
   "cell_type": "markdown",
   "metadata": {},
   "source": [
    "## Robot\n",
    "\n",
    "Our robot '🤖' starts at the bottom left and can either move up, down, left, or right. It needs to get to the '❤️' in the world. Unlike the previous assignment, the robot now knows where the heart is."
   ]
  },
  {
   "cell_type": "code",
   "execution_count": 3,
   "metadata": {},
   "outputs": [],
   "source": [
    "moves = [(0,-1), (1,0), (0,1), (-1,0)]"
   ]
  },
  {
   "cell_type": "code",
   "execution_count": 4,
   "metadata": {},
   "outputs": [],
   "source": [
    "good_start = (len(world)-1, 0)"
   ]
  },
  {
   "cell_type": "code",
   "execution_count": 5,
   "metadata": {},
   "outputs": [],
   "source": [
    "goal = (0, len(world)-1)"
   ]
  },
  {
   "cell_type": "markdown",
   "metadata": {},
   "source": [
    "## Bad Robot\n",
    "\n",
    "And unlike the previous assignment, we have a bad robot '👾', too, that starts at the bottom right and can also move either up, down, left, or right. It wants to zap our robot. The zapper range isn't that great, so our robot is considered zapped if it is anywhere in a 3x3 cell centered at the bad robot."
   ]
  },
  {
   "cell_type": "code",
   "execution_count": 6,
   "metadata": {},
   "outputs": [],
   "source": [
    "bad_start = (len(world)-1, len(world)-1)"
   ]
  },
  {
   "cell_type": "code",
   "execution_count": 7,
   "metadata": {},
   "outputs": [],
   "source": [
    "# Update the world with this information\n",
    "world[good_start[0]][good_start[1]] = '🤖'\n",
    "world[goal[0]][goal[1]] = '❤️'\n",
    "world[bad_start[0]][bad_start[1]] = '👾'"
   ]
  },
  {
   "cell_type": "code",
   "execution_count": 8,
   "metadata": {},
   "outputs": [
    {
     "name": "stdout",
     "output_type": "stream",
     "text": [
      "⬜⬜⬜⬜⬜⬜⬜⬜⬜⬜⬜⬜⬜⬜⬜⬜⬜⬜⬜⬜❤️\n",
      "⬜⬜⬜⬜⬜⬜⬜⬜⬜⬜⬜⬜⬜⬜⬜⬜⬜⬜⬜⬜⬜\n",
      "⬜⬜⬜⬜⬜⬜⬜⬜⬜⬜⬜⬜⬜⬜⬜⬜⬜⬜⬜⬜⬜\n",
      "⬜⬜⬜⬜⬜⬜⬜⬜⬜⬜⬜⬜⬜⬜⬜⬜⬜⬜⬜⬜⬜\n",
      "⬜⬜⬜⬜⬜⬜⬜⬜⬜⬜⬜⬜⬜⬜⬜⬜⬜⬜⬜⬜⬜\n",
      "⬜⬜⬜⬜⬜⬜⬜⬜⬜⬜⬜⬜⬜⬜⬜⬜⬜⬜⬜⬜⬜\n",
      "⬜⬜⬜⬜⬜⬜⬜⬜⬜⬜⬜⬜⬜⬜⬜⬜⬜⬜⬜⬜⬜\n",
      "⬜⬜⬜⬜⬜⬜⬜⬜⬜⬜⬜⬜⬜⬜⬜⬜⬜⬜⬜⬜⬜\n",
      "⬜⬜⬜⬜⬜⬜⬜⬜⬜⬜⬜⬜⬜⬜⬜⬜⬜⬜⬜⬜⬜\n",
      "⬜⬜⬜⬜⬜⬜⬜⬜⬜⬛⬛⬛⬜⬜⬜⬜⬜⬜⬜⬜⬜\n",
      "⬜⬜⬜⬜⬜⬜⬜⬜⬜⬛⬛⬛⬜⬜⬜⬜⬜⬜⬜⬜⬜\n",
      "⬜⬜⬜⬜⬜⬜⬜⬜⬜⬛⬛⬛⬜⬜⬜⬜⬜⬜⬜⬜⬜\n",
      "⬜⬜⬜⬜⬜⬜⬜⬜⬜⬜⬜⬜⬜⬜⬜⬜⬜⬜⬜⬜⬜\n",
      "⬜⬜⬜⬜⬜⬜⬜⬜⬜⬜⬜⬜⬜⬜⬜⬜⬜⬜⬜⬜⬜\n",
      "⬜⬜⬜⬜⬜⬜⬜⬜⬜⬜⬜⬜⬜⬜⬜⬜⬜⬜⬜⬜⬜\n",
      "⬜⬜⬜⬜⬜⬜⬜⬜⬜⬜⬜⬜⬜⬜⬜⬜⬜⬜⬜⬜⬜\n",
      "⬜⬜⬜⬜⬜⬜⬜⬜⬜⬜⬜⬜⬜⬜⬜⬜⬜⬜⬜⬜⬜\n",
      "⬜⬜⬜⬜⬜⬜⬜⬜⬜⬜⬜⬜⬜⬜⬜⬜⬜⬜⬜⬜⬜\n",
      "⬜⬜⬜⬜⬜⬜⬜⬜⬜⬜⬜⬜⬜⬜⬜⬜⬜⬜⬜⬜⬜\n",
      "⬜⬜⬜⬜⬜⬜⬜⬜⬜⬜⬜⬜⬜⬜⬜⬜⬜⬜⬜⬜⬜\n",
      "🤖⬜⬜⬜⬜⬜⬜⬜⬜⬜⬜⬜⬜⬜⬜⬜⬜⬜⬜⬜👾\n"
     ]
    }
   ],
   "source": [
    "# A nicer view of the world, without commas and brackets\n",
    "for row in world:\n",
    "    print(\"\".join(row))"
   ]
  },
  {
   "cell_type": "markdown",
   "metadata": {},
   "source": [
    "## Game\n",
    "\n",
    "* We have two players: our original good robot and the new bad robot '👾'\n",
    "* At each turn of the game, a player gets to move in the world\n",
    "* Players only get to move according to `moves`\n",
    "* '⬛' are obstacles that neither robot can traverse\n",
    "* Each player knows the other player's current location\n",
    "* Each player knows the location of the '❤️'\n",
    "* '🤖' wants to get to the '❤️' without being zapped\n",
    "* '👾' is trying to zap '🤖'\n",
    "* '🤖' wins if it gets to the '❤️'\n",
    "* '👾' wins if it zaps the good robot\n",
    "* The game is over when either player wins or we've reached 82 plies (41 good robot moves and 41 bad robot moves)"
   ]
  },
  {
   "cell_type": "markdown",
   "metadata": {},
   "source": [
    "## Adversarial Search\n",
    "\n",
    "\n",
    "The MINIMAX pseudocode is as follows:\n",
    "\n",
    "```\n",
    "MINIMAX(state) returns action\n",
    "    return argmax action in Actions MIN-VALUE(RESULT(state,action))\n",
    "    \n",
    "\n",
    "MAX-VALUE(state) returns value\n",
    "if TERMINAL(state) return UTILITY(state)\n",
    "v <- -inf\n",
    "for each action in Actions(state)\n",
    "    v <- MAX(v, MIN-VALUE(RESULT(state, action))\n",
    "return v\n",
    "\n",
    "\n",
    "MIN-VALUE(state) returns value\n",
    "if TERMINAL(state) return UTILITY(state)\n",
    "v <- +inf\n",
    "for each action in Actions(state)\n",
    "    v <- MIN(v, MAX-VALUE(RESULT(state, action))\n",
    "return v\n",
    "```\n"
   ]
  },
  {
   "cell_type": "markdown",
   "metadata": {},
   "source": [
    "## Notes. \n",
    "\n",
    "* MINIMAX is used to model the opponent as a rational player that will also try it's best to win. When moves are simulated in the tree, that's just what they are, simulations. The actual board only changes once MINIMAX returns an action and that action is taken.\n",
    "* You will probably need to maintain a deep copy of the world.\n",
    "* Use a depth parameter to control the number of times the algorithm ping pongs between the calls to the min_value and max_value functions. A depth of 2 would mean P1_MAX's (caller of MINIMAX) moves are simulated and then P2_MIN's moves are simulated, and that's it.\n",
    "* Responses to FAQ (prior semester):\n",
    "* * There is no \"act of zapping\" special action taken by '👾' that costs it a move\n",
    "* * * '🤖' is simply zapped by '👾' if it is anywhere in a 3x3 cell centered at the bad robot\n",
    "* * Paths can be crossed. It's possible for a robot to occupy a cell previously occupied by the other robot.\n",
    "* * It's possible for a robot to re-visit a position. When looking at results, remember game over happens when either player wins or we've exhausted the 82 plies (41 turns each by each robot).\n",
    "* It might be useful to print out each ply or turn for debugging (not final submission)\n",
    "* The utility formulas used in this project are not perfect, but balance multiple factors: implementation simplicity, consistent outputs, and grading efficiency\n",
    "* * The '🤖' utility in Problem #1 is trying to encode that farther from '👾' is better and closer to '❤️' better\n",
    "* * The '👾' utility in Problem #1 is trying to encode that closer to '🤖' is better and only cares about zapping\n",
    "* * The '👾' utility in Problem #3 represents a slightly smarter '👾' that wants to zap but also thinks being near '❤️' is good for zapping '🤖'"
   ]
  },
  {
   "cell_type": "code",
   "execution_count": 9,
   "metadata": {},
   "outputs": [],
   "source": [
    "# Your code starts here.\n",
    "import random\n",
    "import math\n",
    "from copy import deepcopy"
   ]
  },
  {
   "cell_type": "code",
   "execution_count": 10,
   "metadata": {},
   "outputs": [],
   "source": [
    "def is_valid_move(world, state, move):\n",
    "  # TODO test, docstring\n",
    "  nextState = (state[0] + move[0], state[1] + move[1])\n",
    "  \n",
    "  # Confirm within bounds\n",
    "  if not (0 <= nextState[0] and nextState[0] < len(world)): return False\n",
    "  if not (0 <= nextState[1] and nextState[1] < len(world)): return False\n",
    "  \n",
    "  # Confirm not an obstacle\n",
    "  return world[nextState[0]][nextState[1]] != '⬛'"
   ]
  },
  {
   "cell_type": "code",
   "execution_count": 11,
   "metadata": {},
   "outputs": [],
   "source": [
    "def pick_random_move(world, state, moves):\n",
    "  \"\"\"\n",
    "  Selects a random move from the given selection   \n",
    "    \n",
    "  Args:\n",
    "    moves (List[Tuple[int, int]]): A list of possible moves\n",
    "   \n",
    "  Returns:\n",
    "    Tuple[int, int]: The randomly selected move\n",
    "  \"\"\"\n",
    "  if len(moves) == 0:\n",
    "    raise Exception('No moves provided')\n",
    "  \n",
    "  validMoves = [move for move in moves if is_valid_move(world, state, move)]\n",
    "  if len(validMoves) == 0:\n",
    "    raise Exception('No valid moves available')\n",
    "  \n",
    "  moveIdx = random.randint(0, len(validMoves) - 1)\n",
    "  return validMoves[moveIdx]"
   ]
  },
  {
   "cell_type": "code",
   "execution_count": 12,
   "metadata": {},
   "outputs": [],
   "source": [
    "def test_pick_random_move():\n",
    "  world = [['⬛', '⬜', '⬛'], ['⬜', '⬛', '⬜'], ['⬜', '⬜', '⬜']]\n",
    "  # Test no moves exception\n",
    "  try:\n",
    "    pick_random_move(world, (2, 0), [])\n",
    "    assert False\n",
    "  except:\n",
    "    assert True\n",
    "\n",
    "  # Test single move provided\n",
    "  moves = [(0, 0)]\n",
    "  assert pick_random_move(world, (2, 0), moves) == moves[0]\n",
    "  \n",
    "  # Test returns valid move\n",
    "  moves = [(0, 1), (1, 0), (-1, 0), (0, -1)]\n",
    "  assert pick_random_move(world, (1, 1), moves) in moves\n",
    "\n",
    "  # One available move\n",
    "  moves = [(0, 1), (1, 0), (-1, 0), (0, -1)]\n",
    "  assert pick_random_move(world, (1, 0), moves) == (1, 0)\n",
    "\n",
    "  # No valid moves exception\n",
    "  try:\n",
    "    pick_random_move(world, (0, 1), moves)\n",
    "    assert False\n",
    "  except:\n",
    "    assert True"
   ]
  },
  {
   "cell_type": "code",
   "execution_count": 13,
   "metadata": {},
   "outputs": [],
   "source": [
    "def calc_euclidean_dist(pos1, pos2):\n",
    "  \"\"\"\n",
    "  Compute the euclidean distance between two positions\n",
    "\n",
    "  Args:\n",
    "    start (Tuple[int, int]): A tuple for the first position\n",
    "    end (Tuple[int, int]): A tuple for the second position\n",
    "\n",
    "  Returns:\n",
    "    float: The computed euclidean distance between positions\n",
    "  \"\"\"\n",
    "  y = pos1[0] - pos2[0]\n",
    "  x = pos1[1] - pos2[1]\n",
    "  return math.sqrt(y * y + x * x)"
   ]
  },
  {
   "cell_type": "code",
   "execution_count": 14,
   "metadata": {},
   "outputs": [],
   "source": [
    "def test_calc_euclidean_dist():\n",
    "  # Zero distance computation\n",
    "  p1 = (1, 1)\n",
    "  assert calc_euclidean_dist(p1, p1) == 0\n",
    "\n",
    "  # Case with same vertical position\n",
    "  p2 = (1, 3)\n",
    "  assert calc_euclidean_dist(p1, p2) == 2\n",
    "\n",
    "  # Case with same horizontal position\n",
    "  p3 = (3, 1)\n",
    "  assert calc_euclidean_dist(p1, p3) == 2\n",
    "\n",
    "  # Case with different x and y coordinates\n",
    "  p4 = (3, 2)\n",
    "  p5 = (1, 4)\n",
    "  assert round(calc_euclidean_dist(p4, p5), 2) == round(math.sqrt(8), 2)"
   ]
  },
  {
   "cell_type": "code",
   "execution_count": 15,
   "metadata": {},
   "outputs": [],
   "source": [
    "def compute_good_utility(good, bad, heart):\n",
    "  \"\"\"\n",
    "  Compute the good robot's utility value based on euclidean distance\n",
    "  to the bad robot and the heart\n",
    "\n",
    "  Args:\n",
    "    good (Tuple[int, int]): The good robot's position\n",
    "    bad (Tuple[int, int]): The bad robot's position\n",
    "    heart (Tuple[int, int]): The heart's position\n",
    "\n",
    "  Returns:\n",
    "    float: The computed utility value\n",
    "  \"\"\"\n",
    "  distToBad = calc_euclidean_dist(good, bad)\n",
    "  distToHeart = calc_euclidean_dist(good, heart)\n",
    "  return distToBad - distToHeart"
   ]
  },
  {
   "cell_type": "code",
   "execution_count": 16,
   "metadata": {},
   "outputs": [],
   "source": [
    "def test_compute_good_utility():\n",
    "  p1 = (2, 3)\n",
    "  p2 = (4, 7)\n",
    "  p3 = (8, 2)\n",
    "\n",
    "  # All same location\n",
    "  assert compute_good_utility(p1, p1, p1) == 0\n",
    "\n",
    "  # Bad and heart same location\n",
    "  assert compute_good_utility(p1, p2, p2) == 0\n",
    "\n",
    "  # Good and heart same location\n",
    "  assert compute_good_utility(p1, p2, p1) == math.sqrt(20)\n",
    "\n",
    "  # Good and bad same location\n",
    "  assert compute_good_utility(p2, p2, p3) == -math.sqrt(41)\n",
    "\n",
    "  # All different locations\n",
    "  assert compute_good_utility(p1, p2, p3) == math.sqrt(20) - math.sqrt(37)"
   ]
  },
  {
   "cell_type": "code",
   "execution_count": 17,
   "metadata": {},
   "outputs": [],
   "source": [
    "def compute_bad_utility2(good, bad):\n",
    "  \"\"\"\n",
    "  Compute the good robot's utility value based on euclidean distance\n",
    "  to the good robot\n",
    "\n",
    "  Args:\n",
    "    good (Tuple[int, int]): The good robot's position\n",
    "    bad (Tuple[int, int]): The bad robot's position\n",
    "\n",
    "  Returns:\n",
    "    float: The computed utility value\n",
    "  \"\"\"\n",
    "  return - calc_euclidean_dist(good, bad)"
   ]
  },
  {
   "cell_type": "code",
   "execution_count": 18,
   "metadata": {},
   "outputs": [],
   "source": [
    "def test_compute_bad_utility2():\n",
    "  p1 = (1, 1)\n",
    "  p2 = (1, 3)\n",
    "  p3 = (3, 1)\n",
    "  p4 = (3, 2)\n",
    "  p5 = (1, 4)\n",
    "\n",
    "  # Same good, bad position\n",
    "  assert compute_bad_utility2(p1, p1) == 0\n",
    "\n",
    "  # Case with same vertical position\n",
    "  assert compute_bad_utility2(p1, p2) == -2\n",
    "\n",
    "  # Case with same horizontal position\n",
    "  assert compute_bad_utility2(p1, p3) == -2\n",
    "\n",
    "  # Case with different x and y coordinates\n",
    "  assert compute_bad_utility2(p4, p5) == -math.sqrt(8)"
   ]
  },
  {
   "cell_type": "code",
   "execution_count": 19,
   "metadata": {},
   "outputs": [],
   "source": [
    "def compute_bad_utility3(good, bad, heart):\n",
    "  \"\"\"\n",
    "  Compute the good robot's utility value based on euclidean distance\n",
    "  to the good robot and the heart\n",
    "\n",
    "  Args:\n",
    "    good (Tuple[int, int]): The good robot's position\n",
    "    bad (Tuple[int, int]): The bad robot's position\n",
    "    heart (Tuple[int, int]): The heart's position\n",
    "\n",
    "  Returns:\n",
    "    float: The computed utility value\n",
    "  \"\"\"\n",
    "  distToGood = calc_euclidean_dist(bad, good)\n",
    "  distToHeart = calc_euclidean_dist(bad, heart)\n",
    "  return - distToHeart - distToGood"
   ]
  },
  {
   "cell_type": "code",
   "execution_count": 20,
   "metadata": {},
   "outputs": [],
   "source": [
    "def test_compute_bad_utility3():\n",
    "  p1 = (2, 3)\n",
    "  p2 = (4, 7)\n",
    "  p3 = (8, 2)\n",
    "\n",
    "  # All same location\n",
    "  assert compute_bad_utility3(p1, p1, p1) == 0\n",
    "\n",
    "  # Bad and heart same location\n",
    "  assert compute_bad_utility3(p1, p2, p2) == -math.sqrt(20)\n",
    "\n",
    "  # Good and heart same location\n",
    "  assert compute_bad_utility3(p1, p2, p1) == -2 * math.sqrt(20)\n",
    "\n",
    "  # Good and bad same location\n",
    "  assert compute_bad_utility3(p2, p2, p3) == -math.sqrt(41)\n",
    "\n",
    "  # All different locations\n",
    "  assert compute_bad_utility3(p1, p2, p3) == -math.sqrt(20) - math.sqrt(41)"
   ]
  },
  {
   "cell_type": "code",
   "execution_count": 21,
   "metadata": {},
   "outputs": [],
   "source": [
    "def is_zapped(good, bad):\n",
    "  \"\"\"\n",
    "  Determine if good robot is within zap range of bad\n",
    "\n",
    "  Args:\n",
    "    good (Tuple[int, int]): The good robot's position\n",
    "    bad (Tuple[int, int]): The bad robot's position\n",
    "\n",
    "  Returns:\n",
    "    bool: If the good robot is in range\n",
    "  \"\"\"\n",
    "  dist = calc_euclidean_dist(good, bad)\n",
    "  return dist <= math.sqrt(2)"
   ]
  },
  {
   "cell_type": "code",
   "execution_count": 22,
   "metadata": {},
   "outputs": [],
   "source": [
    "def test_is_zapped():\n",
    "  p1 = (1, 1)\n",
    "  p2 = (1, 2)\n",
    "  p3 = (0, 2)\n",
    "  p4 = (3, 4)\n",
    "\n",
    "  # Same location\n",
    "  assert is_zapped(p1, p1)\n",
    "\n",
    "  # In range linear\n",
    "  assert is_zapped(p3, p2)\n",
    "\n",
    "  # In range diagonal\n",
    "  assert is_zapped(p1, p3)\n",
    "  \n",
    "  # Out of range\n",
    "  assert not is_zapped(p1, p4)"
   ]
  },
  {
   "cell_type": "code",
   "execution_count": 23,
   "metadata": {},
   "outputs": [],
   "source": [
    "def compute_utilities(moves, problem, good, bad, heart, world):\n",
    "  # TODO docstring, test\n",
    "  moveUtilities = []\n",
    "  for move in moves:\n",
    "    if is_valid_move(world, good, move):\n",
    "      moveUtilities.append((compute_good_utility(good, bad, heart), move))\n",
    "  return moveUtilities"
   ]
  },
  {
   "cell_type": "code",
   "execution_count": null,
   "metadata": {},
   "outputs": [],
   "source": [
    "def maxfn(depth, moves, good, bad, heart, world):\n",
    "  # TODO i think the issue is that the min fn will look at the set of moves in terms of the minimizer, returning the wrong move for the maximizer\n",
    "  if is_zapped(good, bad):\n",
    "    return (0, (0, 0))\n",
    "  if depth == 1:\n",
    "    utils = compute_utilities(moves, '?', good, bad, heart, world)\n",
    "    return max(utils, key=lambda util: util[0])\n",
    "  \n",
    "  utils = []\n",
    "  for move in moves:\n",
    "    if is_valid_move(world, good, move):\n",
    "      util = minfn(depth - 1, moves, (good[0] + move[0], good[1] + move[1]), bad, heart, world)\n",
    "      utils.append((util[0], move))\n",
    "\n",
    "  return max(utils, key=lambda util: util[0])"
   ]
  },
  {
   "cell_type": "code",
   "execution_count": null,
   "metadata": {},
   "outputs": [],
   "source": [
    "def minfn(depth, moves, good, bad, heart, world):\n",
    "  if is_zapped(good, bad):\n",
    "    return (0, (0, 0))\n",
    "  if depth == 1:\n",
    "    utils = compute_utilities(moves, '?', good, bad, heart, world)\n",
    "    return min(utils, key=lambda util: util[0])\n",
    "  \n",
    "  utils = []\n",
    "  for move in moves:\n",
    "    if is_valid_move(world, good, move):\n",
    "      util = maxfn(depth - 1, moves, (good[0] + move[0], good[1] + move[1]), bad, heart, world)\n",
    "      utils.append((util[0], move))\n",
    "\n",
    "  return min(utils, key=lambda util: util[0])"
   ]
  },
  {
   "cell_type": "code",
   "execution_count": 26,
   "metadata": {},
   "outputs": [],
   "source": [
    "def make_move(world, state, move, color):\n",
    "  # TODO docstring\n",
    "  newState = (state[0] + move[0], state[1] + move[1])\n",
    "  world[newState[0]][newState[1]] = world[state[0]][state[1]]\n",
    "  world[state[0]][state[1]] = color\n",
    "  return newState "
   ]
  },
  {
   "cell_type": "code",
   "execution_count": 27,
   "metadata": {},
   "outputs": [],
   "source": [
    "def test_make_move():\n",
    "  #TODO test\n",
    "  pass"
   ]
  },
  {
   "cell_type": "code",
   "execution_count": 28,
   "metadata": {},
   "outputs": [],
   "source": [
    "test_pick_random_move()\n",
    "test_calc_euclidean_dist()\n",
    "test_compute_good_utility()\n",
    "test_compute_bad_utility2()\n",
    "test_compute_bad_utility3()\n",
    "test_is_zapped()"
   ]
  },
  {
   "cell_type": "markdown",
   "metadata": {},
   "source": [
    "## Problem #1\n",
    "\n",
    "\n",
    "Implement the game: players, actions, scores, keeping track of turns, when the game is over, how the world changes, and what strategy each player uses (random moves or MINIMAX).\n",
    "\n",
    "\n",
    "Play the game:\n",
    "* '🤖' will use MINIMAX with a depth of 2 (simulate I move and then my opponent moves -- that's it) \n",
    "* '🤖' utility function = Euclidean distance to '👾' - Euclidean distance to '❤️'\n",
    "* '👾' will choose actions at random\n",
    "\n",
    "\n",
    "When the game is over, print out the world (nicer view) with the following changes:\n",
    "* Replace a '⬜' with '🟥' to indicate the path of '👾', \n",
    "* Replace '⬜' with '🟩' to indicate the path of '🤖',\n",
    "* Places the '🤖' and '👾' icons at their current positions, and\n",
    "* '❤️' and '⬛' are not replaced."
   ]
  },
  {
   "cell_type": "code",
   "execution_count": 34,
   "metadata": {},
   "outputs": [],
   "source": [
    "def run_robot_game(world, good_start, bad_start, goal, moves, good_strategy, bad_strategy): # Amend argument list and description above as you see fit\n",
    "    \"\"\"\n",
    "    Runs a turn-based, two-robot game. A bad robot wants to zap the good robot; \n",
    "    a good robot wants to get to goal without being zapped.   \n",
    "    \n",
    "    Args:\n",
    "        world (List[List[str]]): A 2D grid representing the search area where:\n",
    "           - Empty cells are represented by '⬜'\n",
    "           - Robots and goals have their own symbols\n",
    "           - Other characters may represent different elements\n",
    "        good_start \n",
    "        bad_start \n",
    "        goal \n",
    "        moves \n",
    "        good_strategy (str): does good robot randomly select actions? Does it use MINIMAX? Something else?\n",
    "        bad_strategy (str): does bad robot randomly select actions? Does it use MINIMAX? Something else?\n",
    "   \n",
    "   Returns:\n",
    "       None: Prints the world after the game is over:\n",
    "           - Replaces a '⬜' with '🟥' to indicate the path of '👾', \n",
    "           - Replaces a '⬜' with '🟩' to indicate the path of '🤖',\n",
    "           - Places the '🤖' and '👾' icons at their current positions, and\n",
    "           - '❤️' and '⬛' are not replaced.\n",
    "    \"\"\"\n",
    "    goodPos = deepcopy(good_start)\n",
    "    badPos = deepcopy(bad_start)\n",
    "    newWorld = deepcopy(world)\n",
    "\n",
    "    for i in range(41):\n",
    "        if calc_euclidean_dist(goodPos, goal) == 1:\n",
    "            break \n",
    "        maxResult = maxfn(2, moves, goodPos, badPos, goal, newWorld)\n",
    "        goodMove = maxResult[1]\n",
    "        goodPos = make_move(newWorld, goodPos, goodMove, '🟩')\n",
    "\n",
    "        badMove = pick_random_move(newWorld, badPos, moves)\n",
    "        badPos = make_move(newWorld, badPos, badMove, '🟥')\n",
    "\n",
    "    for row in newWorld:\n",
    "        print(''.join(row))\n",
    "    \n",
    "    return\n",
    "    "
   ]
  },
  {
   "cell_type": "code",
   "execution_count": 44,
   "metadata": {},
   "outputs": [
    {
     "name": "stdout",
     "output_type": "stream",
     "text": [
      "🟩🟩🟩🟩🟩🟩🟩🟩🟩🟩🟩🟩🟩🟩🟩🟩🟩🟩🟩🤖❤️\n",
      "🟩⬜⬜⬜⬜⬜⬜⬜⬜⬜⬜⬜⬜⬜⬜⬜⬜⬜⬜⬜⬜\n",
      "🟩⬜⬜⬜⬜⬜⬜⬜⬜⬜⬜⬜⬜⬜⬜⬜⬜⬜⬜⬜⬜\n",
      "🟩⬜⬜⬜⬜⬜⬜⬜⬜⬜⬜⬜⬜⬜⬜⬜⬜⬜⬜⬜⬜\n",
      "🟩⬜⬜⬜⬜⬜⬜⬜⬜⬜⬜⬜⬜⬜⬜⬜⬜⬜⬜⬜⬜\n",
      "🟩⬜⬜⬜⬜⬜⬜⬜⬜⬜⬜⬜⬜⬜⬜⬜⬜⬜⬜⬜⬜\n",
      "🟩⬜⬜⬜⬜⬜⬜⬜⬜⬜⬜⬜⬜⬜⬜⬜⬜⬜⬜⬜⬜\n",
      "🟩⬜⬜⬜⬜⬜⬜⬜⬜⬜⬜⬜⬜⬜⬜⬜⬜⬜⬜⬜⬜\n",
      "🟩⬜⬜⬜⬜⬜⬜⬜⬜⬜⬜⬜⬜⬜⬜⬜⬜⬜⬜⬜⬜\n",
      "🟩⬜⬜⬜⬜⬜⬜⬜⬜⬛⬛⬛⬜⬜⬜⬜⬜⬜⬜⬜⬜\n",
      "🟩⬜⬜⬜⬜⬜⬜⬜⬜⬛⬛⬛⬜⬜⬜⬜⬜⬜⬜⬜⬜\n",
      "🟩⬜⬜⬜⬜⬜⬜⬜⬜⬛⬛⬛⬜⬜⬜⬜⬜⬜⬜⬜⬜\n",
      "🟩⬜⬜⬜⬜⬜⬜⬜⬜⬜⬜⬜⬜⬜⬜⬜⬜⬜⬜⬜⬜\n",
      "🟩⬜⬜⬜⬜⬜⬜⬜⬜⬜⬜⬜⬜⬜⬜⬜⬜⬜⬜⬜⬜\n",
      "🟩⬜⬜⬜⬜⬜⬜⬜⬜⬜⬜⬜⬜🟥🟥🟥🟥🟥⬜⬜⬜\n",
      "🟩⬜⬜⬜⬜⬜⬜⬜⬜⬜⬜⬜⬜⬜🟥🟥🟥🟥🟥🟥👾\n",
      "🟩⬜⬜⬜⬜⬜⬜⬜⬜⬜⬜⬜⬜⬜⬜⬜🟥🟥🟥⬜⬜\n",
      "🟩⬜⬜⬜⬜⬜⬜⬜⬜⬜⬜⬜⬜⬜⬜⬜⬜🟥🟥🟥⬜\n",
      "🟩⬜⬜⬜⬜⬜⬜⬜⬜⬜⬜⬜⬜⬜⬜⬜⬜⬜🟥🟥⬜\n",
      "🟩⬜⬜⬜⬜⬜⬜⬜⬜⬜⬜⬜⬜⬜⬜⬜⬜⬜🟥🟥🟥\n",
      "🟩⬜⬜⬜⬜⬜⬜⬜⬜⬜⬜⬜⬜⬜⬜⬜⬜⬜⬜🟥🟥\n"
     ]
    }
   ],
   "source": [
    "# Amend arguments (if needed), but this should ONLY print out a nice view of the world when the game is over\n",
    "run_robot_game(world, good_start, bad_start, goal, moves, \"?\", \"?\")"
   ]
  },
  {
   "cell_type": "markdown",
   "metadata": {},
   "source": [
    "## Problem #2\n",
    "\n",
    "\n",
    "Play the game again, but in this problem:\n",
    "* '🤖' will use MINIMAX with a depth of 2   \n",
    "* '🤖' utility function = Euclidean distance to '👾' - Euclidean distance to '❤️'\n",
    "* '👾' will use MINIMAX with a depth of 2\n",
    "* '👾' utility function = - Euclidean distance to '🤖' "
   ]
  },
  {
   "cell_type": "code",
   "execution_count": 31,
   "metadata": {},
   "outputs": [
    {
     "name": "stdout",
     "output_type": "stream",
     "text": [
      "🟩🟩🟩🟩🟩🟩🟩🟩🟩🟩🟩🟩🟩🟩🟩🟩🟩🟩🟩🤖🟩\n",
      "🟩⬜⬜⬜⬜⬜⬜⬜⬜⬜⬜⬜⬜⬜⬜⬜⬜⬜⬜⬜⬜\n",
      "🟩⬜⬜⬜⬜⬜⬜⬜⬜⬜⬜⬜⬜⬜⬜⬜⬜⬜⬜⬜⬜\n",
      "🟩⬜⬜⬜⬜⬜⬜⬜⬜⬜⬜⬜⬜⬜⬜⬜⬜⬜⬜⬜⬜\n",
      "🟩⬜⬜⬜⬜⬜⬜⬜⬜⬜⬜⬜⬜⬜⬜⬜⬜⬜⬜⬜⬜\n",
      "🟩⬜⬜⬜⬜⬜⬜⬜⬜⬜⬜⬜⬜⬜⬜⬜⬜⬜⬜⬜⬜\n",
      "🟩⬜⬜⬜⬜⬜⬜⬜⬜⬜⬜⬜⬜⬜⬜⬜⬜⬜⬜⬜⬜\n",
      "🟩⬜⬜⬜⬜⬜⬜⬜⬜⬜⬜⬜⬜⬜⬜⬜⬜⬜⬜⬜⬜\n",
      "🟩⬜⬜⬜⬜⬜⬜⬜⬜⬜⬜⬜⬜⬜⬜⬜⬜⬜⬜⬜⬜\n",
      "🟩⬜⬜⬜⬜⬜⬜⬜⬜⬛⬛⬛⬜⬜⬜⬜⬜⬜⬜⬜⬜\n",
      "🟩⬜⬜⬜⬜⬜⬜⬜⬜⬛⬛⬛⬜⬜⬜⬜⬜⬜⬜⬜⬜\n",
      "🟩⬜⬜⬜⬜⬜⬜⬜⬜⬛⬛⬛⬜⬜⬜⬜⬜⬜⬜⬜⬜\n",
      "🟩⬜⬜⬜⬜⬜⬜⬜⬜⬜⬜⬜⬜⬜⬜⬜⬜⬜⬜⬜⬜\n",
      "🟩⬜⬜⬜⬜⬜⬜⬜⬜⬜⬜⬜⬜⬜⬜⬜⬜⬜⬜⬜⬜\n",
      "🟩⬜⬜⬜⬜⬜⬜⬜⬜⬜⬜⬜⬜⬜⬜⬜⬜⬜⬜⬜⬜\n",
      "🟩⬜⬜⬜⬜⬜⬜⬜⬜⬜⬜⬜⬜⬜⬜⬜🟥⬜⬜⬜⬜\n",
      "🟩⬜⬜⬜⬜⬜⬜⬜⬜⬜⬜⬜⬜⬜⬜⬜🟥🟥🟥⬜⬜\n",
      "🟩⬜⬜⬜⬜⬜⬜⬜⬜⬜⬜⬜⬜⬜⬜🟥🟥🟥🟥🟥🟥\n",
      "🟩⬜⬜⬜⬜⬜⬜⬜⬜⬜⬜⬜⬜⬜⬜🟥⬜🟥🟥🟥🟥\n",
      "🟩⬜⬜⬜⬜⬜⬜⬜⬜⬜⬜⬜⬜⬜👾🟥⬜⬜🟥⬜🟥\n",
      "🟩⬜⬜⬜⬜⬜⬜⬜⬜⬜⬜⬜⬜⬜⬜⬜⬜⬜🟥🟥🟥\n"
     ]
    }
   ],
   "source": [
    "# Amend arguments (if needed), but this should ONLY print out a nice view of the world when the game is over\n",
    "run_robot_game(world, good_start, bad_start, goal, moves, \"?\", \"?\")"
   ]
  },
  {
   "cell_type": "markdown",
   "metadata": {},
   "source": [
    "## Problem #3\n",
    "\n",
    "\n",
    "Play the game again, but in this problem:\n",
    "* '🤖' will use MINIMAX with a depth of 2   \n",
    "* '🤖' utility function = Euclidean distance to '👾' - Euclidean distance to '❤️'\n",
    "* '👾' will use MINIMAX with a depth of 2\n",
    "* '👾' utility function = - Euclidean distance to '❤️' - Euclidean distance to '🤖'"
   ]
  },
  {
   "cell_type": "code",
   "execution_count": 32,
   "metadata": {},
   "outputs": [
    {
     "name": "stdout",
     "output_type": "stream",
     "text": [
      "🟩🟩🟩🟩🟩🟩🟩🟩🟩🟩🟩🟩🟩🟩🟩🟩🟩🟩🟩🤖🟩\n",
      "🟩⬜⬜⬜⬜⬜⬜⬜⬜⬜⬜⬜⬜⬜⬜⬜⬜⬜⬜⬜⬜\n",
      "🟩⬜⬜⬜⬜⬜⬜⬜⬜⬜⬜⬜⬜⬜⬜⬜⬜⬜⬜⬜⬜\n",
      "🟩⬜⬜⬜⬜⬜⬜⬜⬜⬜⬜⬜⬜⬜⬜⬜⬜⬜⬜⬜⬜\n",
      "🟩⬜⬜⬜⬜⬜⬜⬜⬜⬜⬜⬜⬜⬜⬜⬜⬜⬜⬜⬜⬜\n",
      "🟩⬜⬜⬜⬜⬜⬜⬜⬜⬜⬜⬜⬜⬜⬜⬜⬜⬜⬜⬜⬜\n",
      "🟩⬜⬜⬜⬜⬜⬜⬜⬜⬜⬜⬜⬜⬜⬜⬜⬜⬜⬜⬜⬜\n",
      "🟩⬜⬜⬜⬜⬜⬜⬜⬜⬜⬜⬜⬜⬜⬜⬜⬜⬜⬜⬜⬜\n",
      "🟩⬜⬜⬜⬜⬜⬜⬜⬜⬜⬜⬜⬜⬜⬜⬜⬜⬜⬜⬜⬜\n",
      "🟩⬜⬜⬜⬜⬜⬜⬜⬜⬛⬛⬛⬜⬜⬜⬜⬜⬜⬜⬜⬜\n",
      "🟩⬜⬜⬜⬜⬜⬜⬜⬜⬛⬛⬛⬜⬜⬜⬜⬜⬜⬜⬜⬜\n",
      "🟩⬜⬜⬜⬜⬜⬜⬜⬜⬛⬛⬛⬜⬜⬜⬜⬜⬜⬜⬜⬜\n",
      "🟩⬜⬜⬜⬜⬜⬜⬜⬜⬜⬜⬜⬜⬜⬜⬜⬜⬜⬜⬜⬜\n",
      "🟩⬜⬜⬜⬜⬜⬜⬜⬜⬜⬜⬜⬜⬜⬜⬜🟥🟥⬜⬜⬜\n",
      "🟩⬜⬜⬜⬜⬜⬜⬜⬜⬜⬜⬜⬜⬜⬜⬜🟥👾⬜⬜⬜\n",
      "🟩⬜⬜⬜⬜⬜⬜⬜⬜⬜⬜⬜⬜⬜⬜🟥🟥🟥🟥⬜⬜\n",
      "🟩⬜⬜⬜⬜⬜⬜⬜⬜⬜⬜⬜⬜⬜⬜🟥🟥⬜⬜⬜⬜\n",
      "🟩⬜⬜⬜⬜⬜⬜⬜⬜⬜⬜⬜⬜⬜⬜⬜🟥🟥⬜⬜⬜\n",
      "🟩⬜⬜⬜⬜⬜⬜⬜⬜⬜⬜⬜⬜⬜⬜⬜⬜🟥🟥🟥🟥\n",
      "🟩⬜⬜⬜⬜⬜⬜⬜⬜⬜⬜⬜⬜⬜⬜⬜⬜🟥🟥🟥🟥\n",
      "🟩⬜⬜⬜⬜⬜⬜⬜⬜⬜⬜⬜⬜⬜⬜⬜⬜🟥⬜🟥🟥\n"
     ]
    }
   ],
   "source": [
    "# Amend arguments (if needed), but this should ONLY print out a nice view of the world when the game is over\n",
    "run_robot_game(world, good_start, bad_start, goal, moves, \"?\", \"?\")"
   ]
  },
  {
   "cell_type": "markdown",
   "metadata": {},
   "source": [
    "## Problem #4\n",
    "\n",
    "\n",
    "Play the game again, but in this problem:\n",
    "* '🤖' will use MINIMAX with a depth of 2  \n",
    "* '🤖' utility function = Euclidean distance to '👾' - Euclidean distance to '❤️'\n",
    "* '👾' will use MINIMAX with a depth of 4\n",
    "* '👾' utility function = - Euclidean distance to '❤️' - Euclidean distance to '🤖'"
   ]
  },
  {
   "cell_type": "code",
   "execution_count": 33,
   "metadata": {},
   "outputs": [
    {
     "name": "stdout",
     "output_type": "stream",
     "text": [
      "🟩🟩🟩🟩🟩🟩🟩🟩🟩🟩🟩🟩🟩🟩🟩🟩🟩🟩🟩🤖🟩\n",
      "🟩⬜⬜⬜⬜⬜⬜⬜⬜⬜⬜⬜⬜⬜⬜⬜⬜⬜⬜⬜⬜\n",
      "🟩⬜⬜⬜⬜⬜⬜⬜⬜⬜⬜⬜⬜⬜⬜⬜⬜⬜⬜⬜⬜\n",
      "🟩⬜⬜⬜⬜⬜⬜⬜⬜⬜⬜⬜⬜⬜⬜⬜⬜⬜⬜⬜⬜\n",
      "🟩⬜⬜⬜⬜⬜⬜⬜⬜⬜⬜⬜⬜⬜⬜⬜⬜⬜⬜⬜⬜\n",
      "🟩⬜⬜⬜⬜⬜⬜⬜⬜⬜⬜⬜⬜⬜⬜⬜⬜⬜⬜⬜⬜\n",
      "🟩⬜⬜⬜⬜⬜⬜⬜⬜⬜⬜⬜⬜⬜⬜⬜⬜⬜⬜⬜⬜\n",
      "🟩⬜⬜⬜⬜⬜⬜⬜⬜⬜⬜⬜⬜⬜⬜⬜⬜⬜⬜⬜⬜\n",
      "🟩⬜⬜⬜⬜⬜⬜⬜⬜⬜⬜⬜⬜⬜⬜⬜⬜⬜⬜⬜⬜\n",
      "🟩⬜⬜⬜⬜⬜⬜⬜⬜⬛⬛⬛⬜⬜⬜⬜⬜⬜⬜⬜⬜\n",
      "🟩⬜⬜⬜⬜⬜⬜⬜⬜⬛⬛⬛⬜⬜⬜⬜⬜⬜⬜⬜⬜\n",
      "🟩⬜⬜⬜⬜⬜⬜⬜⬜⬛⬛⬛⬜⬜⬜⬜⬜⬜⬜⬜⬜\n",
      "🟩⬜⬜⬜⬜⬜⬜⬜⬜⬜⬜⬜⬜⬜⬜⬜⬜⬜⬜⬜⬜\n",
      "🟩⬜⬜⬜⬜⬜⬜⬜⬜⬜⬜⬜⬜⬜⬜⬜⬜⬜⬜⬜⬜\n",
      "🟩⬜⬜⬜⬜⬜⬜⬜⬜⬜⬜⬜⬜👾🟥🟥⬜⬜⬜⬜⬜\n",
      "🟩⬜⬜⬜⬜⬜⬜⬜⬜⬜⬜⬜⬜⬜🟥🟥🟥⬜⬜⬜⬜\n",
      "🟩⬜⬜⬜⬜⬜⬜⬜⬜⬜⬜⬜⬜⬜🟥🟥⬜⬜⬜⬜⬜\n",
      "🟩⬜⬜⬜⬜⬜⬜⬜⬜⬜⬜⬜⬜⬜⬜🟥🟥🟥⬜⬜⬜\n",
      "🟩⬜⬜⬜⬜⬜⬜⬜⬜⬜⬜⬜⬜⬜⬜🟥🟥🟥⬜⬜⬜\n",
      "🟩⬜⬜⬜⬜⬜⬜⬜⬜⬜⬜⬜⬜⬜⬜🟥🟥🟥⬜⬜🟥\n",
      "🟩⬜⬜⬜⬜⬜⬜⬜⬜⬜⬜⬜⬜⬜⬜🟥🟥🟥🟥🟥🟥\n"
     ]
    }
   ],
   "source": [
    "# Amend arguments (if needed), but this should ONLY print out a nice view of the world when the game is over\n",
    "run_robot_game(world, good_start, bad_start, goal, moves, \"?\", \"?\")"
   ]
  },
  {
   "cell_type": "markdown",
   "metadata": {},
   "source": [
    "## Before You Submit...\n",
    "\n",
    "00. Re-read the general instructions provided above, and\n",
    "01. Hit \"Kernel\"->\"Restart & Run All\". The first cell that is run should show [1], the second should show [2], and so on...\n",
    "02. Submit your notebook (as .ipynb, not PDF) using Gradescope, and\n",
    "03.  Do not submit any other files."
   ]
  }
 ],
 "metadata": {
  "kernelspec": {
   "display_name": "Python 3",
   "language": "python",
   "name": "python3"
  },
  "language_info": {
   "codemirror_mode": {
    "name": "ipython",
    "version": 3
   },
   "file_extension": ".py",
   "mimetype": "text/x-python",
   "name": "python",
   "nbconvert_exporter": "python",
   "pygments_lexer": "ipython3",
   "version": "3.9.6"
  },
  "toc": {
   "colors": {
    "hover_highlight": "#DAA520",
    "navigate_num": "#000000",
    "navigate_text": "#333333",
    "running_highlight": "#FF0000",
    "selected_highlight": "#FFD700",
    "sidebar_border": "#EEEEEE",
    "wrapper_background": "#FFFFFF"
   },
   "moveMenuLeft": true,
   "nav_menu": {
    "height": "192px",
    "width": "252px"
   },
   "navigate_menu": true,
   "number_sections": true,
   "sideBar": true,
   "threshold": 4,
   "toc_cell": false,
   "toc_section_display": "block",
   "toc_window_display": false,
   "widenNotebook": false
  }
 },
 "nbformat": 4,
 "nbformat_minor": 4
}
